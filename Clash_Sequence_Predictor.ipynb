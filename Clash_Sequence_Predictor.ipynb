{
 "cells": [
  {
   "cell_type": "code",
   "execution_count": 1,
   "metadata": {},
   "outputs": [
    {
     "name": "stderr",
     "output_type": "stream",
     "text": [
      "Using TensorFlow backend.\n"
     ]
    }
   ],
   "source": [
    "import keras\n",
    "import pandas as pd\n",
    "import numpy as np\n",
    "import matplotlib.pyplot as plt\n",
    "import os, sys\n",
    "import seaborn as sns\n",
    "import gc\n",
    "\n",
    "from keras.preprocessing.sequence import pad_sequences\n",
    "from keras.preprocessing.text import Tokenizer\n",
    "from keras.layers import Embedding\n",
    "from keras.regularizers import l1, l2\n",
    "\n",
    "from keras.models import Model, Sequential, load_model\n",
    "from keras.layers import Input, Flatten, Dense, Conv1D, MaxPooling1D, GlobalMaxPool1D, SpatialDropout1D, \\\n",
    "                          UpSampling1D, LSTM, RepeatVector, TimeDistributed, GRU, Bidirectional, concatenate, \\\n",
    "                          Reshape, Dropout, BatchNormalization, Embedding, GlobalAveragePooling2D, Masking\n",
    "\n",
    "from sklearn.preprocessing import StandardScaler, MinMaxScaler\n",
    "from keras.utils import to_categorical\n",
    "\n",
    "from sklearn.model_selection import train_test_split\n",
    "import matplotlib.pyplot as plt\n",
    "\n",
    "#from utils import get_model, find_closest, get_sequences, create_train_valid,  generate_output, guess_human\n",
    "\n",
    "import warnings\n",
    "warnings.filterwarnings('ignore', category = RuntimeWarning)\n",
    "warnings.filterwarnings('ignore', category = UserWarning)\n",
    "pd.set_option('max_colwidth', -1)"
   ]
  },
  {
   "cell_type": "code",
   "execution_count": 3,
   "metadata": {},
   "outputs": [
    {
     "name": "stdout",
     "output_type": "stream",
     "text": [
      "(48228, 12)\n"
     ]
    },
    {
     "data": {
      "text/html": [
       "<div>\n",
       "<style scoped>\n",
       "    .dataframe tbody tr th:only-of-type {\n",
       "        vertical-align: middle;\n",
       "    }\n",
       "\n",
       "    .dataframe tbody tr th {\n",
       "        vertical-align: top;\n",
       "    }\n",
       "\n",
       "    .dataframe thead th {\n",
       "        text-align: right;\n",
       "    }\n",
       "</style>\n",
       "<table border=\"1\" class=\"dataframe\">\n",
       "  <thead>\n",
       "    <tr style=\"text-align: right;\">\n",
       "      <th></th>\n",
       "      <th>Player</th>\n",
       "      <th>Tag</th>\n",
       "      <th>TeamId</th>\n",
       "      <th>Team</th>\n",
       "      <th>DeckId</th>\n",
       "      <th>Archetype</th>\n",
       "      <th>Usage</th>\n",
       "      <th>CardKeysRaw</th>\n",
       "      <th>Games</th>\n",
       "      <th>Losses</th>\n",
       "      <th>Wins</th>\n",
       "      <th>BattleTime</th>\n",
       "    </tr>\n",
       "  </thead>\n",
       "  <tbody>\n",
       "    <tr>\n",
       "      <th>0</th>\n",
       "      <td>Lince™</td>\n",
       "      <td>G9UUP2GY</td>\n",
       "      <td>70.0</td>\n",
       "      <td>CRL EU</td>\n",
       "      <td>8330785.0</td>\n",
       "      <td>Hogrider</td>\n",
       "      <td>SameClan</td>\n",
       "      <td>skeletons,ice-spirit,ice-golem,the-log,cannon,musketeer,fireball,hog-rider</td>\n",
       "      <td>142.0</td>\n",
       "      <td>51.0</td>\n",
       "      <td>91.0</td>\n",
       "      <td>2019-05-11</td>\n",
       "    </tr>\n",
       "    <tr>\n",
       "      <th>1</th>\n",
       "      <td>Chiqui</td>\n",
       "      <td>200L89QP</td>\n",
       "      <td>71.0</td>\n",
       "      <td>SLO - QLASH</td>\n",
       "      <td>8523346.0</td>\n",
       "      <td>Hogrider</td>\n",
       "      <td>SameClan</td>\n",
       "      <td>skeletons,ice-spirit,the-log,ice-golem,cannon,musketeer,fireball,hog-rider</td>\n",
       "      <td>7.0</td>\n",
       "      <td>3.0</td>\n",
       "      <td>4.0</td>\n",
       "      <td>2019-05-11</td>\n",
       "    </tr>\n",
       "    <tr>\n",
       "      <th>2</th>\n",
       "      <td>Kaiju JN</td>\n",
       "      <td>LYU9C09J</td>\n",
       "      <td>56.0</td>\n",
       "      <td>Black EF / PG / CTP - Kaiju eSports</td>\n",
       "      <td>8523672.0</td>\n",
       "      <td>Golem</td>\n",
       "      <td>Friendly</td>\n",
       "      <td>barbarian-barrel,ice-wizard,tornado,mega-minion,lumberjack,baby-dragon,lightning,golem</td>\n",
       "      <td>3.0</td>\n",
       "      <td>1.0</td>\n",
       "      <td>2.0</td>\n",
       "      <td>2019-05-11</td>\n",
       "    </tr>\n",
       "    <tr>\n",
       "      <th>3</th>\n",
       "      <td>x6 Necro</td>\n",
       "      <td>PL2YC0</td>\n",
       "      <td>9.0</td>\n",
       "      <td>Black EF / PGL / CTP - x6tence Black</td>\n",
       "      <td>8523753.0</td>\n",
       "      <td>3Musk</td>\n",
       "      <td>Friendly</td>\n",
       "      <td>ice-golem,zap,goblin-gang,miner,battle-ram,minion-horde,elixir-collector,three-musketeers</td>\n",
       "      <td>1.0</td>\n",
       "      <td>1.0</td>\n",
       "      <td>0.0</td>\n",
       "      <td>2019-05-11</td>\n",
       "    </tr>\n",
       "    <tr>\n",
       "      <th>4</th>\n",
       "      <td>xPedro15</td>\n",
       "      <td>VLURPP9</td>\n",
       "      <td>70.0</td>\n",
       "      <td>CRL EU</td>\n",
       "      <td>8526335.0</td>\n",
       "      <td>Hogrider</td>\n",
       "      <td>Friendly</td>\n",
       "      <td>ice-spirit,skeletons,ice-golem,the-log,cannon,musketeer,fireball,hog-rider</td>\n",
       "      <td>14.0</td>\n",
       "      <td>6.0</td>\n",
       "      <td>8.0</td>\n",
       "      <td>2019-05-11</td>\n",
       "    </tr>\n",
       "  </tbody>\n",
       "</table>\n",
       "</div>"
      ],
      "text/plain": [
       "     Player       Tag  TeamId                                  Team  \\\n",
       "0  Lince™    G9UUP2GY  70.0    CRL EU                                 \n",
       "1  Chiqui    200L89QP  71.0    SLO - QLASH                            \n",
       "2  Kaiju JN  LYU9C09J  56.0    Black EF / PG / CTP - Kaiju eSports    \n",
       "3  x6 Necro  PL2YC0    9.0     Black EF / PGL / CTP - x6tence Black   \n",
       "4  xPedro15  VLURPP9   70.0    CRL EU                                 \n",
       "\n",
       "      DeckId Archetype     Usage  \\\n",
       "0  8330785.0  Hogrider  SameClan   \n",
       "1  8523346.0  Hogrider  SameClan   \n",
       "2  8523672.0  Golem     Friendly   \n",
       "3  8523753.0  3Musk     Friendly   \n",
       "4  8526335.0  Hogrider  Friendly   \n",
       "\n",
       "                                                                                 CardKeysRaw  \\\n",
       "0  skeletons,ice-spirit,ice-golem,the-log,cannon,musketeer,fireball,hog-rider                  \n",
       "1  skeletons,ice-spirit,the-log,ice-golem,cannon,musketeer,fireball,hog-rider                  \n",
       "2  barbarian-barrel,ice-wizard,tornado,mega-minion,lumberjack,baby-dragon,lightning,golem      \n",
       "3  ice-golem,zap,goblin-gang,miner,battle-ram,minion-horde,elixir-collector,three-musketeers   \n",
       "4  ice-spirit,skeletons,ice-golem,the-log,cannon,musketeer,fireball,hog-rider                  \n",
       "\n",
       "   Games  Losses  Wins  BattleTime  \n",
       "0  142.0  51.0    91.0  2019-05-11  \n",
       "1  7.0    3.0     4.0   2019-05-11  \n",
       "2  3.0    1.0     2.0   2019-05-11  \n",
       "3  1.0    1.0     0.0   2019-05-11  \n",
       "4  14.0   6.0     8.0   2019-05-11  "
      ]
     },
     "execution_count": 3,
     "metadata": {},
     "output_type": "execute_result"
    }
   ],
   "source": [
    "data_original = pd.read_csv('data_seq.csv', sep = ';')\n",
    "print(data_original.shape)\n",
    "data_original.head()"
   ]
  },
  {
   "cell_type": "markdown",
   "metadata": {},
   "source": [
    "### Data cleaning"
   ]
  },
  {
   "cell_type": "code",
   "execution_count": 4,
   "metadata": {},
   "outputs": [],
   "source": [
    "data_original['date'] = pd.to_datetime(data_original['BattleTime']).dt.date"
   ]
  },
  {
   "cell_type": "code",
   "execution_count": 5,
   "metadata": {},
   "outputs": [],
   "source": [
    "data_original.dropna(axis = 0, inplace = True)"
   ]
  },
  {
   "cell_type": "code",
   "execution_count": 6,
   "metadata": {},
   "outputs": [
    {
     "data": {
      "text/html": [
       "<div>\n",
       "<style scoped>\n",
       "    .dataframe tbody tr th:only-of-type {\n",
       "        vertical-align: middle;\n",
       "    }\n",
       "\n",
       "    .dataframe tbody tr th {\n",
       "        vertical-align: top;\n",
       "    }\n",
       "\n",
       "    .dataframe thead th {\n",
       "        text-align: right;\n",
       "    }\n",
       "</style>\n",
       "<table border=\"1\" class=\"dataframe\">\n",
       "  <thead>\n",
       "    <tr style=\"text-align: right;\">\n",
       "      <th></th>\n",
       "      <th>Player</th>\n",
       "      <th>Tag</th>\n",
       "      <th>TeamId</th>\n",
       "      <th>Team</th>\n",
       "      <th>DeckId</th>\n",
       "      <th>Archetype</th>\n",
       "      <th>Usage</th>\n",
       "      <th>CardKeysRaw</th>\n",
       "      <th>Games</th>\n",
       "      <th>Losses</th>\n",
       "      <th>Wins</th>\n",
       "      <th>BattleTime</th>\n",
       "      <th>date</th>\n",
       "    </tr>\n",
       "  </thead>\n",
       "  <tbody>\n",
       "    <tr>\n",
       "      <th>0</th>\n",
       "      <td>Lince™</td>\n",
       "      <td>G9UUP2GY</td>\n",
       "      <td>70</td>\n",
       "      <td>CRL EU</td>\n",
       "      <td>8330785</td>\n",
       "      <td>Hogrider</td>\n",
       "      <td>SameClan</td>\n",
       "      <td>skeletons,ice-spirit,ice-golem,the-log,cannon,musketeer,fireball,hog-rider</td>\n",
       "      <td>142</td>\n",
       "      <td>51</td>\n",
       "      <td>91</td>\n",
       "      <td>2019-05-11</td>\n",
       "      <td>2019-05-11</td>\n",
       "    </tr>\n",
       "    <tr>\n",
       "      <th>1</th>\n",
       "      <td>Chiqui</td>\n",
       "      <td>200L89QP</td>\n",
       "      <td>71</td>\n",
       "      <td>SLO - QLASH</td>\n",
       "      <td>8523346</td>\n",
       "      <td>Hogrider</td>\n",
       "      <td>SameClan</td>\n",
       "      <td>skeletons,ice-spirit,the-log,ice-golem,cannon,musketeer,fireball,hog-rider</td>\n",
       "      <td>7</td>\n",
       "      <td>3</td>\n",
       "      <td>4</td>\n",
       "      <td>2019-05-11</td>\n",
       "      <td>2019-05-11</td>\n",
       "    </tr>\n",
       "    <tr>\n",
       "      <th>2</th>\n",
       "      <td>Kaiju JN</td>\n",
       "      <td>LYU9C09J</td>\n",
       "      <td>56</td>\n",
       "      <td>Black EF / PG / CTP - Kaiju eSports</td>\n",
       "      <td>8523672</td>\n",
       "      <td>Golem</td>\n",
       "      <td>Friendly</td>\n",
       "      <td>barbarian-barrel,ice-wizard,tornado,mega-minion,lumberjack,baby-dragon,lightning,golem</td>\n",
       "      <td>3</td>\n",
       "      <td>1</td>\n",
       "      <td>2</td>\n",
       "      <td>2019-05-11</td>\n",
       "      <td>2019-05-11</td>\n",
       "    </tr>\n",
       "    <tr>\n",
       "      <th>3</th>\n",
       "      <td>x6 Necro</td>\n",
       "      <td>PL2YC0</td>\n",
       "      <td>9</td>\n",
       "      <td>Black EF / PGL / CTP - x6tence Black</td>\n",
       "      <td>8523753</td>\n",
       "      <td>3Musk</td>\n",
       "      <td>Friendly</td>\n",
       "      <td>ice-golem,zap,goblin-gang,miner,battle-ram,minion-horde,elixir-collector,three-musketeers</td>\n",
       "      <td>1</td>\n",
       "      <td>1</td>\n",
       "      <td>0</td>\n",
       "      <td>2019-05-11</td>\n",
       "      <td>2019-05-11</td>\n",
       "    </tr>\n",
       "    <tr>\n",
       "      <th>4</th>\n",
       "      <td>xPedro15</td>\n",
       "      <td>VLURPP9</td>\n",
       "      <td>70</td>\n",
       "      <td>CRL EU</td>\n",
       "      <td>8526335</td>\n",
       "      <td>Hogrider</td>\n",
       "      <td>Friendly</td>\n",
       "      <td>ice-spirit,skeletons,ice-golem,the-log,cannon,musketeer,fireball,hog-rider</td>\n",
       "      <td>14</td>\n",
       "      <td>6</td>\n",
       "      <td>8</td>\n",
       "      <td>2019-05-11</td>\n",
       "      <td>2019-05-11</td>\n",
       "    </tr>\n",
       "  </tbody>\n",
       "</table>\n",
       "</div>"
      ],
      "text/plain": [
       "     Player       Tag  TeamId                                  Team   DeckId  \\\n",
       "0  Lince™    G9UUP2GY  70      CRL EU                                8330785   \n",
       "1  Chiqui    200L89QP  71      SLO - QLASH                           8523346   \n",
       "2  Kaiju JN  LYU9C09J  56      Black EF / PG / CTP - Kaiju eSports   8523672   \n",
       "3  x6 Necro  PL2YC0    9       Black EF / PGL / CTP - x6tence Black  8523753   \n",
       "4  xPedro15  VLURPP9   70      CRL EU                                8526335   \n",
       "\n",
       "  Archetype     Usage  \\\n",
       "0  Hogrider  SameClan   \n",
       "1  Hogrider  SameClan   \n",
       "2  Golem     Friendly   \n",
       "3  3Musk     Friendly   \n",
       "4  Hogrider  Friendly   \n",
       "\n",
       "                                                                                 CardKeysRaw  \\\n",
       "0  skeletons,ice-spirit,ice-golem,the-log,cannon,musketeer,fireball,hog-rider                  \n",
       "1  skeletons,ice-spirit,the-log,ice-golem,cannon,musketeer,fireball,hog-rider                  \n",
       "2  barbarian-barrel,ice-wizard,tornado,mega-minion,lumberjack,baby-dragon,lightning,golem      \n",
       "3  ice-golem,zap,goblin-gang,miner,battle-ram,minion-horde,elixir-collector,three-musketeers   \n",
       "4  ice-spirit,skeletons,ice-golem,the-log,cannon,musketeer,fireball,hog-rider                  \n",
       "\n",
       "   Games  Losses  Wins  BattleTime        date  \n",
       "0  142    51      91    2019-05-11  2019-05-11  \n",
       "1  7      3       4     2019-05-11  2019-05-11  \n",
       "2  3      1       2     2019-05-11  2019-05-11  \n",
       "3  1      1       0     2019-05-11  2019-05-11  \n",
       "4  14     6       8     2019-05-11  2019-05-11  "
      ]
     },
     "execution_count": 6,
     "metadata": {},
     "output_type": "execute_result"
    }
   ],
   "source": [
    "ints = ['TeamId', 'DeckId', 'Games', 'Losses', 'Wins']\n",
    "for col in ints:\n",
    "    data_original[col] = data_original[col].astype(int)\n",
    "data_original.head()"
   ]
  },
  {
   "cell_type": "markdown",
   "metadata": {},
   "source": [
    "### Clean Cards Ids"
   ]
  },
  {
   "cell_type": "code",
   "execution_count": 7,
   "metadata": {},
   "outputs": [],
   "source": [
    "#print(', '.join(sorted(data_original['CardKeysRaw'][0].split(','))))"
   ]
  },
  {
   "cell_type": "code",
   "execution_count": 8,
   "metadata": {},
   "outputs": [
    {
     "data": {
      "text/html": [
       "<div>\n",
       "<style scoped>\n",
       "    .dataframe tbody tr th:only-of-type {\n",
       "        vertical-align: middle;\n",
       "    }\n",
       "\n",
       "    .dataframe tbody tr th {\n",
       "        vertical-align: top;\n",
       "    }\n",
       "\n",
       "    .dataframe thead th {\n",
       "        text-align: right;\n",
       "    }\n",
       "</style>\n",
       "<table border=\"1\" class=\"dataframe\">\n",
       "  <thead>\n",
       "    <tr style=\"text-align: right;\">\n",
       "      <th></th>\n",
       "      <th>Player</th>\n",
       "      <th>Tag</th>\n",
       "      <th>TeamId</th>\n",
       "      <th>Team</th>\n",
       "      <th>DeckId</th>\n",
       "      <th>Archetype</th>\n",
       "      <th>Usage</th>\n",
       "      <th>CardKeysRaw</th>\n",
       "      <th>Games</th>\n",
       "      <th>Losses</th>\n",
       "      <th>Wins</th>\n",
       "      <th>BattleTime</th>\n",
       "      <th>date</th>\n",
       "      <th>CardKeysRawSorted</th>\n",
       "    </tr>\n",
       "  </thead>\n",
       "  <tbody>\n",
       "    <tr>\n",
       "      <th>0</th>\n",
       "      <td>Lince™</td>\n",
       "      <td>G9UUP2GY</td>\n",
       "      <td>70</td>\n",
       "      <td>CRL EU</td>\n",
       "      <td>8330785</td>\n",
       "      <td>Hogrider</td>\n",
       "      <td>SameClan</td>\n",
       "      <td>skeletons,ice-spirit,ice-golem,the-log,cannon,musketeer,fireball,hog-rider</td>\n",
       "      <td>142</td>\n",
       "      <td>51</td>\n",
       "      <td>91</td>\n",
       "      <td>2019-05-11</td>\n",
       "      <td>2019-05-11</td>\n",
       "      <td>cannon, fireball, hog-rider, ice-golem, ice-spirit, musketeer, skeletons, the-log</td>\n",
       "    </tr>\n",
       "    <tr>\n",
       "      <th>1</th>\n",
       "      <td>Chiqui</td>\n",
       "      <td>200L89QP</td>\n",
       "      <td>71</td>\n",
       "      <td>SLO - QLASH</td>\n",
       "      <td>8523346</td>\n",
       "      <td>Hogrider</td>\n",
       "      <td>SameClan</td>\n",
       "      <td>skeletons,ice-spirit,the-log,ice-golem,cannon,musketeer,fireball,hog-rider</td>\n",
       "      <td>7</td>\n",
       "      <td>3</td>\n",
       "      <td>4</td>\n",
       "      <td>2019-05-11</td>\n",
       "      <td>2019-05-11</td>\n",
       "      <td>cannon, fireball, hog-rider, ice-golem, ice-spirit, musketeer, skeletons, the-log</td>\n",
       "    </tr>\n",
       "    <tr>\n",
       "      <th>2</th>\n",
       "      <td>Kaiju JN</td>\n",
       "      <td>LYU9C09J</td>\n",
       "      <td>56</td>\n",
       "      <td>Black EF / PG / CTP - Kaiju eSports</td>\n",
       "      <td>8523672</td>\n",
       "      <td>Golem</td>\n",
       "      <td>Friendly</td>\n",
       "      <td>barbarian-barrel,ice-wizard,tornado,mega-minion,lumberjack,baby-dragon,lightning,golem</td>\n",
       "      <td>3</td>\n",
       "      <td>1</td>\n",
       "      <td>2</td>\n",
       "      <td>2019-05-11</td>\n",
       "      <td>2019-05-11</td>\n",
       "      <td>baby-dragon, barbarian-barrel, golem, ice-wizard, lightning, lumberjack, mega-minion, tornado</td>\n",
       "    </tr>\n",
       "    <tr>\n",
       "      <th>3</th>\n",
       "      <td>x6 Necro</td>\n",
       "      <td>PL2YC0</td>\n",
       "      <td>9</td>\n",
       "      <td>Black EF / PGL / CTP - x6tence Black</td>\n",
       "      <td>8523753</td>\n",
       "      <td>3Musk</td>\n",
       "      <td>Friendly</td>\n",
       "      <td>ice-golem,zap,goblin-gang,miner,battle-ram,minion-horde,elixir-collector,three-musketeers</td>\n",
       "      <td>1</td>\n",
       "      <td>1</td>\n",
       "      <td>0</td>\n",
       "      <td>2019-05-11</td>\n",
       "      <td>2019-05-11</td>\n",
       "      <td>battle-ram, elixir-collector, goblin-gang, ice-golem, miner, minion-horde, three-musketeers, zap</td>\n",
       "    </tr>\n",
       "    <tr>\n",
       "      <th>4</th>\n",
       "      <td>xPedro15</td>\n",
       "      <td>VLURPP9</td>\n",
       "      <td>70</td>\n",
       "      <td>CRL EU</td>\n",
       "      <td>8526335</td>\n",
       "      <td>Hogrider</td>\n",
       "      <td>Friendly</td>\n",
       "      <td>ice-spirit,skeletons,ice-golem,the-log,cannon,musketeer,fireball,hog-rider</td>\n",
       "      <td>14</td>\n",
       "      <td>6</td>\n",
       "      <td>8</td>\n",
       "      <td>2019-05-11</td>\n",
       "      <td>2019-05-11</td>\n",
       "      <td>cannon, fireball, hog-rider, ice-golem, ice-spirit, musketeer, skeletons, the-log</td>\n",
       "    </tr>\n",
       "  </tbody>\n",
       "</table>\n",
       "</div>"
      ],
      "text/plain": [
       "     Player       Tag  TeamId                                  Team   DeckId  \\\n",
       "0  Lince™    G9UUP2GY  70      CRL EU                                8330785   \n",
       "1  Chiqui    200L89QP  71      SLO - QLASH                           8523346   \n",
       "2  Kaiju JN  LYU9C09J  56      Black EF / PG / CTP - Kaiju eSports   8523672   \n",
       "3  x6 Necro  PL2YC0    9       Black EF / PGL / CTP - x6tence Black  8523753   \n",
       "4  xPedro15  VLURPP9   70      CRL EU                                8526335   \n",
       "\n",
       "  Archetype     Usage  \\\n",
       "0  Hogrider  SameClan   \n",
       "1  Hogrider  SameClan   \n",
       "2  Golem     Friendly   \n",
       "3  3Musk     Friendly   \n",
       "4  Hogrider  Friendly   \n",
       "\n",
       "                                                                                 CardKeysRaw  \\\n",
       "0  skeletons,ice-spirit,ice-golem,the-log,cannon,musketeer,fireball,hog-rider                  \n",
       "1  skeletons,ice-spirit,the-log,ice-golem,cannon,musketeer,fireball,hog-rider                  \n",
       "2  barbarian-barrel,ice-wizard,tornado,mega-minion,lumberjack,baby-dragon,lightning,golem      \n",
       "3  ice-golem,zap,goblin-gang,miner,battle-ram,minion-horde,elixir-collector,three-musketeers   \n",
       "4  ice-spirit,skeletons,ice-golem,the-log,cannon,musketeer,fireball,hog-rider                  \n",
       "\n",
       "   Games  Losses  Wins  BattleTime        date  \\\n",
       "0  142    51      91    2019-05-11  2019-05-11   \n",
       "1  7      3       4     2019-05-11  2019-05-11   \n",
       "2  3      1       2     2019-05-11  2019-05-11   \n",
       "3  1      1       0     2019-05-11  2019-05-11   \n",
       "4  14     6       8     2019-05-11  2019-05-11   \n",
       "\n",
       "                                                                                  CardKeysRawSorted  \n",
       "0  cannon, fireball, hog-rider, ice-golem, ice-spirit, musketeer, skeletons, the-log                 \n",
       "1  cannon, fireball, hog-rider, ice-golem, ice-spirit, musketeer, skeletons, the-log                 \n",
       "2  baby-dragon, barbarian-barrel, golem, ice-wizard, lightning, lumberjack, mega-minion, tornado     \n",
       "3  battle-ram, elixir-collector, goblin-gang, ice-golem, miner, minion-horde, three-musketeers, zap  \n",
       "4  cannon, fireball, hog-rider, ice-golem, ice-spirit, musketeer, skeletons, the-log                 "
      ]
     },
     "execution_count": 8,
     "metadata": {},
     "output_type": "execute_result"
    }
   ],
   "source": [
    "data_original['CardKeysRawSorted'] = data_original['CardKeysRaw'].apply(lambda x: ', '.join(sorted(x.split(','))))\n",
    "data_original.head()"
   ]
  },
  {
   "cell_type": "code",
   "execution_count": 9,
   "metadata": {},
   "outputs": [
    {
     "name": "stdout",
     "output_type": "stream",
     "text": [
      "(48205, 1)\n",
      "(12898, 2)\n"
     ]
    },
    {
     "data": {
      "text/html": [
       "<div>\n",
       "<style scoped>\n",
       "    .dataframe tbody tr th:only-of-type {\n",
       "        vertical-align: middle;\n",
       "    }\n",
       "\n",
       "    .dataframe tbody tr th {\n",
       "        vertical-align: top;\n",
       "    }\n",
       "\n",
       "    .dataframe thead th {\n",
       "        text-align: right;\n",
       "    }\n",
       "</style>\n",
       "<table border=\"1\" class=\"dataframe\">\n",
       "  <thead>\n",
       "    <tr style=\"text-align: right;\">\n",
       "      <th></th>\n",
       "      <th>deck</th>\n",
       "      <th>times</th>\n",
       "      <th>deck_id_int</th>\n",
       "    </tr>\n",
       "  </thead>\n",
       "  <tbody>\n",
       "    <tr>\n",
       "      <th>3155</th>\n",
       "      <td>balloon, barbarian-barrel, bats, giant-snowball, ice-golem, inferno-tower, miner, rascals</td>\n",
       "      <td>343</td>\n",
       "      <td>0</td>\n",
       "    </tr>\n",
       "    <tr>\n",
       "      <th>1403</th>\n",
       "      <td>baby-dragon, barbarian-barrel, electro-wizard, furnace, guards, lightning, mega-minion, royal-giant</td>\n",
       "      <td>339</td>\n",
       "      <td>1</td>\n",
       "    </tr>\n",
       "    <tr>\n",
       "      <th>792</th>\n",
       "      <td>baby-dragon, bandit, barbarian-barrel, electro-wizard, giant-snowball, pekka, poison, ram-rider</td>\n",
       "      <td>320</td>\n",
       "      <td>2</td>\n",
       "    </tr>\n",
       "    <tr>\n",
       "      <th>4938</th>\n",
       "      <td>bandit, battle-ram, fireball, giant-snowball, ice-golem, minions, musketeer, prince</td>\n",
       "      <td>316</td>\n",
       "      <td>3</td>\n",
       "    </tr>\n",
       "    <tr>\n",
       "      <th>10052</th>\n",
       "      <td>cannon, fireball, hog-rider, ice-golem, ice-spirit, musketeer, skeletons, the-log</td>\n",
       "      <td>296</td>\n",
       "      <td>4</td>\n",
       "    </tr>\n",
       "  </tbody>\n",
       "</table>\n",
       "</div>"
      ],
      "text/plain": [
       "                                                                                                      deck  \\\n",
       "3155   balloon, barbarian-barrel, bats, giant-snowball, ice-golem, inferno-tower, miner, rascals             \n",
       "1403   baby-dragon, barbarian-barrel, electro-wizard, furnace, guards, lightning, mega-minion, royal-giant   \n",
       "792    baby-dragon, bandit, barbarian-barrel, electro-wizard, giant-snowball, pekka, poison, ram-rider       \n",
       "4938   bandit, battle-ram, fireball, giant-snowball, ice-golem, minions, musketeer, prince                   \n",
       "10052  cannon, fireball, hog-rider, ice-golem, ice-spirit, musketeer, skeletons, the-log                     \n",
       "\n",
       "       times  deck_id_int  \n",
       "3155   343    0            \n",
       "1403   339    1            \n",
       "792    320    2            \n",
       "4938   316    3            \n",
       "10052  296    4            "
      ]
     },
     "execution_count": 9,
     "metadata": {},
     "output_type": "execute_result"
    }
   ],
   "source": [
    "Decks = pd.DataFrame({'deck':data_original['CardKeysRawSorted']})\n",
    "print(Decks.shape)\n",
    "Decks.head()\n",
    "Decks = Decks.groupby('deck').size().to_frame('times').reset_index().sort_values(by = 'times',ascending = False)\n",
    "print(Decks.shape)\n",
    "Decks['deck_id_int'] = [id for id in range(Decks.shape[0])]\n",
    "Decks.head()"
   ]
  },
  {
   "cell_type": "markdown",
   "metadata": {},
   "source": [
    "#### Delete redundant Decks "
   ]
  },
  {
   "cell_type": "code",
   "execution_count": 10,
   "metadata": {},
   "outputs": [
    {
     "data": {
      "text/html": [
       "<div>\n",
       "<style scoped>\n",
       "    .dataframe tbody tr th:only-of-type {\n",
       "        vertical-align: middle;\n",
       "    }\n",
       "\n",
       "    .dataframe tbody tr th {\n",
       "        vertical-align: top;\n",
       "    }\n",
       "\n",
       "    .dataframe thead th {\n",
       "        text-align: right;\n",
       "    }\n",
       "</style>\n",
       "<table border=\"1\" class=\"dataframe\">\n",
       "  <thead>\n",
       "    <tr style=\"text-align: right;\">\n",
       "      <th></th>\n",
       "      <th>Player</th>\n",
       "      <th>Tag</th>\n",
       "      <th>TeamId</th>\n",
       "      <th>Team</th>\n",
       "      <th>DeckId</th>\n",
       "      <th>Archetype</th>\n",
       "      <th>Usage</th>\n",
       "      <th>CardKeysRaw</th>\n",
       "      <th>Games</th>\n",
       "      <th>Losses</th>\n",
       "      <th>Wins</th>\n",
       "      <th>BattleTime</th>\n",
       "      <th>date</th>\n",
       "      <th>CardKeysRawSorted</th>\n",
       "      <th>deck</th>\n",
       "      <th>times</th>\n",
       "      <th>deck_id_int</th>\n",
       "    </tr>\n",
       "  </thead>\n",
       "  <tbody>\n",
       "    <tr>\n",
       "      <th>0</th>\n",
       "      <td>Lince™</td>\n",
       "      <td>G9UUP2GY</td>\n",
       "      <td>70</td>\n",
       "      <td>CRL EU</td>\n",
       "      <td>8330785</td>\n",
       "      <td>Hogrider</td>\n",
       "      <td>SameClan</td>\n",
       "      <td>skeletons,ice-spirit,ice-golem,the-log,cannon,musketeer,fireball,hog-rider</td>\n",
       "      <td>142</td>\n",
       "      <td>51</td>\n",
       "      <td>91</td>\n",
       "      <td>2019-05-11</td>\n",
       "      <td>2019-05-11</td>\n",
       "      <td>cannon, fireball, hog-rider, ice-golem, ice-spirit, musketeer, skeletons, the-log</td>\n",
       "      <td>cannon, fireball, hog-rider, ice-golem, ice-spirit, musketeer, skeletons, the-log</td>\n",
       "      <td>296</td>\n",
       "      <td>4</td>\n",
       "    </tr>\n",
       "    <tr>\n",
       "      <th>1</th>\n",
       "      <td>Chiqui</td>\n",
       "      <td>200L89QP</td>\n",
       "      <td>71</td>\n",
       "      <td>SLO - QLASH</td>\n",
       "      <td>8523346</td>\n",
       "      <td>Hogrider</td>\n",
       "      <td>SameClan</td>\n",
       "      <td>skeletons,ice-spirit,the-log,ice-golem,cannon,musketeer,fireball,hog-rider</td>\n",
       "      <td>7</td>\n",
       "      <td>3</td>\n",
       "      <td>4</td>\n",
       "      <td>2019-05-11</td>\n",
       "      <td>2019-05-11</td>\n",
       "      <td>cannon, fireball, hog-rider, ice-golem, ice-spirit, musketeer, skeletons, the-log</td>\n",
       "      <td>cannon, fireball, hog-rider, ice-golem, ice-spirit, musketeer, skeletons, the-log</td>\n",
       "      <td>296</td>\n",
       "      <td>4</td>\n",
       "    </tr>\n",
       "    <tr>\n",
       "      <th>2</th>\n",
       "      <td>xPedro15</td>\n",
       "      <td>VLURPP9</td>\n",
       "      <td>70</td>\n",
       "      <td>CRL EU</td>\n",
       "      <td>8526335</td>\n",
       "      <td>Hogrider</td>\n",
       "      <td>Friendly</td>\n",
       "      <td>ice-spirit,skeletons,ice-golem,the-log,cannon,musketeer,fireball,hog-rider</td>\n",
       "      <td>14</td>\n",
       "      <td>6</td>\n",
       "      <td>8</td>\n",
       "      <td>2019-05-11</td>\n",
       "      <td>2019-05-11</td>\n",
       "      <td>cannon, fireball, hog-rider, ice-golem, ice-spirit, musketeer, skeletons, the-log</td>\n",
       "      <td>cannon, fireball, hog-rider, ice-golem, ice-spirit, musketeer, skeletons, the-log</td>\n",
       "      <td>296</td>\n",
       "      <td>4</td>\n",
       "    </tr>\n",
       "  </tbody>\n",
       "</table>\n",
       "</div>"
      ],
      "text/plain": [
       "     Player       Tag  TeamId         Team   DeckId Archetype     Usage  \\\n",
       "0  Lince™    G9UUP2GY  70      CRL EU       8330785  Hogrider  SameClan   \n",
       "1  Chiqui    200L89QP  71      SLO - QLASH  8523346  Hogrider  SameClan   \n",
       "2  xPedro15  VLURPP9   70      CRL EU       8526335  Hogrider  Friendly   \n",
       "\n",
       "                                                                  CardKeysRaw  \\\n",
       "0  skeletons,ice-spirit,ice-golem,the-log,cannon,musketeer,fireball,hog-rider   \n",
       "1  skeletons,ice-spirit,the-log,ice-golem,cannon,musketeer,fireball,hog-rider   \n",
       "2  ice-spirit,skeletons,ice-golem,the-log,cannon,musketeer,fireball,hog-rider   \n",
       "\n",
       "   Games  Losses  Wins  BattleTime        date  \\\n",
       "0  142    51      91    2019-05-11  2019-05-11   \n",
       "1  7      3       4     2019-05-11  2019-05-11   \n",
       "2  14     6       8     2019-05-11  2019-05-11   \n",
       "\n",
       "                                                                   CardKeysRawSorted  \\\n",
       "0  cannon, fireball, hog-rider, ice-golem, ice-spirit, musketeer, skeletons, the-log   \n",
       "1  cannon, fireball, hog-rider, ice-golem, ice-spirit, musketeer, skeletons, the-log   \n",
       "2  cannon, fireball, hog-rider, ice-golem, ice-spirit, musketeer, skeletons, the-log   \n",
       "\n",
       "                                                                                deck  \\\n",
       "0  cannon, fireball, hog-rider, ice-golem, ice-spirit, musketeer, skeletons, the-log   \n",
       "1  cannon, fireball, hog-rider, ice-golem, ice-spirit, musketeer, skeletons, the-log   \n",
       "2  cannon, fireball, hog-rider, ice-golem, ice-spirit, musketeer, skeletons, the-log   \n",
       "\n",
       "   times  deck_id_int  \n",
       "0  296    4            \n",
       "1  296    4            \n",
       "2  296    4            "
      ]
     },
     "execution_count": 10,
     "metadata": {},
     "output_type": "execute_result"
    }
   ],
   "source": [
    "data_original = pd.merge(data_original, Decks, how = 'inner', left_on = 'CardKeysRawSorted', right_on = 'deck')\n",
    "data_original.head(3)"
   ]
  },
  {
   "cell_type": "code",
   "execution_count": 11,
   "metadata": {},
   "outputs": [
    {
     "name": "stdout",
     "output_type": "stream",
     "text": [
      "(41782, 1)\n",
      "(6475, 2)\n"
     ]
    },
    {
     "data": {
      "text/html": [
       "<div>\n",
       "<style scoped>\n",
       "    .dataframe tbody tr th:only-of-type {\n",
       "        vertical-align: middle;\n",
       "    }\n",
       "\n",
       "    .dataframe tbody tr th {\n",
       "        vertical-align: top;\n",
       "    }\n",
       "\n",
       "    .dataframe thead th {\n",
       "        text-align: right;\n",
       "    }\n",
       "</style>\n",
       "<table border=\"1\" class=\"dataframe\">\n",
       "  <thead>\n",
       "    <tr style=\"text-align: right;\">\n",
       "      <th></th>\n",
       "      <th>Player</th>\n",
       "      <th>Tag</th>\n",
       "      <th>TeamId</th>\n",
       "      <th>Team</th>\n",
       "      <th>DeckId</th>\n",
       "      <th>Archetype</th>\n",
       "      <th>Usage</th>\n",
       "      <th>CardKeysRaw</th>\n",
       "      <th>Games</th>\n",
       "      <th>Losses</th>\n",
       "      <th>Wins</th>\n",
       "      <th>BattleTime</th>\n",
       "      <th>date</th>\n",
       "      <th>CardKeysRawSorted</th>\n",
       "      <th>deck</th>\n",
       "      <th>times</th>\n",
       "      <th>deck_id_int</th>\n",
       "    </tr>\n",
       "  </thead>\n",
       "  <tbody>\n",
       "    <tr>\n",
       "      <th>0</th>\n",
       "      <td>Lince™</td>\n",
       "      <td>G9UUP2GY</td>\n",
       "      <td>70</td>\n",
       "      <td>CRL EU</td>\n",
       "      <td>8330785</td>\n",
       "      <td>Hogrider</td>\n",
       "      <td>SameClan</td>\n",
       "      <td>skeletons,ice-spirit,ice-golem,the-log,cannon,musketeer,fireball,hog-rider</td>\n",
       "      <td>142</td>\n",
       "      <td>51</td>\n",
       "      <td>91</td>\n",
       "      <td>2019-05-11</td>\n",
       "      <td>2019-05-11</td>\n",
       "      <td>cannon, fireball, hog-rider, ice-golem, ice-spirit, musketeer, skeletons, the-log</td>\n",
       "      <td>cannon, fireball, hog-rider, ice-golem, ice-spirit, musketeer, skeletons, the-log</td>\n",
       "      <td>296</td>\n",
       "      <td>4</td>\n",
       "    </tr>\n",
       "    <tr>\n",
       "      <th>1</th>\n",
       "      <td>Chiqui</td>\n",
       "      <td>200L89QP</td>\n",
       "      <td>71</td>\n",
       "      <td>SLO - QLASH</td>\n",
       "      <td>8523346</td>\n",
       "      <td>Hogrider</td>\n",
       "      <td>SameClan</td>\n",
       "      <td>skeletons,ice-spirit,the-log,ice-golem,cannon,musketeer,fireball,hog-rider</td>\n",
       "      <td>7</td>\n",
       "      <td>3</td>\n",
       "      <td>4</td>\n",
       "      <td>2019-05-11</td>\n",
       "      <td>2019-05-11</td>\n",
       "      <td>cannon, fireball, hog-rider, ice-golem, ice-spirit, musketeer, skeletons, the-log</td>\n",
       "      <td>cannon, fireball, hog-rider, ice-golem, ice-spirit, musketeer, skeletons, the-log</td>\n",
       "      <td>296</td>\n",
       "      <td>4</td>\n",
       "    </tr>\n",
       "    <tr>\n",
       "      <th>2</th>\n",
       "      <td>xPedro15</td>\n",
       "      <td>VLURPP9</td>\n",
       "      <td>70</td>\n",
       "      <td>CRL EU</td>\n",
       "      <td>8526335</td>\n",
       "      <td>Hogrider</td>\n",
       "      <td>Friendly</td>\n",
       "      <td>ice-spirit,skeletons,ice-golem,the-log,cannon,musketeer,fireball,hog-rider</td>\n",
       "      <td>14</td>\n",
       "      <td>6</td>\n",
       "      <td>8</td>\n",
       "      <td>2019-05-11</td>\n",
       "      <td>2019-05-11</td>\n",
       "      <td>cannon, fireball, hog-rider, ice-golem, ice-spirit, musketeer, skeletons, the-log</td>\n",
       "      <td>cannon, fireball, hog-rider, ice-golem, ice-spirit, musketeer, skeletons, the-log</td>\n",
       "      <td>296</td>\n",
       "      <td>4</td>\n",
       "    </tr>\n",
       "  </tbody>\n",
       "</table>\n",
       "</div>"
      ],
      "text/plain": [
       "     Player       Tag  TeamId         Team   DeckId Archetype     Usage  \\\n",
       "0  Lince™    G9UUP2GY  70      CRL EU       8330785  Hogrider  SameClan   \n",
       "1  Chiqui    200L89QP  71      SLO - QLASH  8523346  Hogrider  SameClan   \n",
       "2  xPedro15  VLURPP9   70      CRL EU       8526335  Hogrider  Friendly   \n",
       "\n",
       "                                                                  CardKeysRaw  \\\n",
       "0  skeletons,ice-spirit,ice-golem,the-log,cannon,musketeer,fireball,hog-rider   \n",
       "1  skeletons,ice-spirit,the-log,ice-golem,cannon,musketeer,fireball,hog-rider   \n",
       "2  ice-spirit,skeletons,ice-golem,the-log,cannon,musketeer,fireball,hog-rider   \n",
       "\n",
       "   Games  Losses  Wins  BattleTime        date  \\\n",
       "0  142    51      91    2019-05-11  2019-05-11   \n",
       "1  7      3       4     2019-05-11  2019-05-11   \n",
       "2  14     6       8     2019-05-11  2019-05-11   \n",
       "\n",
       "                                                                   CardKeysRawSorted  \\\n",
       "0  cannon, fireball, hog-rider, ice-golem, ice-spirit, musketeer, skeletons, the-log   \n",
       "1  cannon, fireball, hog-rider, ice-golem, ice-spirit, musketeer, skeletons, the-log   \n",
       "2  cannon, fireball, hog-rider, ice-golem, ice-spirit, musketeer, skeletons, the-log   \n",
       "\n",
       "                                                                                deck  \\\n",
       "0  cannon, fireball, hog-rider, ice-golem, ice-spirit, musketeer, skeletons, the-log   \n",
       "1  cannon, fireball, hog-rider, ice-golem, ice-spirit, musketeer, skeletons, the-log   \n",
       "2  cannon, fireball, hog-rider, ice-golem, ice-spirit, musketeer, skeletons, the-log   \n",
       "\n",
       "   times  deck_id_int  \n",
       "0  296    4            \n",
       "1  296    4            \n",
       "2  296    4            "
      ]
     },
     "execution_count": 11,
     "metadata": {},
     "output_type": "execute_result"
    }
   ],
   "source": [
    "indexNames = data_original[(data_original.Games == 1) & (data_original.times == 1)].index\n",
    "data_original.drop(axis = 0, index = indexNames, inplace = True)\n",
    "data_original.drop(axis = 1, inplace = True, columns=['deck_id_int', 'times', 'deck'])\n",
    "data_original = data_original.reset_index(drop = True)\n",
    "data_original.shape\n",
    "\n",
    "#We need to re'generate the decks ids\n",
    "\n",
    "Decks = pd.DataFrame({'deck':data_original['CardKeysRawSorted']})\n",
    "print(Decks.shape)\n",
    "Decks.head()\n",
    "Decks = Decks.groupby('deck').size().to_frame('times').reset_index().sort_values(by = 'times',ascending = False)\n",
    "print(Decks.shape)\n",
    "Decks['deck_id_int'] = [id for id in range(Decks.shape[0])]\n",
    "Decks.head()\n",
    "\n",
    "data_original = pd.merge(data_original, Decks, how = 'inner', left_on = 'CardKeysRawSorted', right_on = 'deck')\n",
    "data_original.head(3)"
   ]
  },
  {
   "cell_type": "markdown",
   "metadata": {},
   "source": [
    "### Data preparation"
   ]
  },
  {
   "cell_type": "code",
   "execution_count": 12,
   "metadata": {},
   "outputs": [
    {
     "name": "stdout",
     "output_type": "stream",
     "text": [
      "We have 430 unique Players 47 unique Teams 6475 unique Decks 23 unique Archetypes and 4 types of usages\n"
     ]
    }
   ],
   "source": [
    "player_unique = data_original.Tag.unique()\n",
    "teams_unique = data_original.TeamId.unique()\n",
    "deck_unique = data_original.deck_id_int.unique()\n",
    "archetype_unique = data_original.Archetype.unique()\n",
    "usage_unique = data_original.Usage.unique()\n",
    "\n",
    "print (f'We have {len(player_unique)} unique Players {len(teams_unique)} unique Teams'+\\\n",
    "       f' {len(deck_unique) } unique Decks {len(archetype_unique)} unique Archetypes and {len(usage_unique)} types of usages')"
   ]
  },
  {
   "cell_type": "code",
   "execution_count": 13,
   "metadata": {},
   "outputs": [],
   "source": [
    "players_map = {i:val for i,val in enumerate(player_unique)}\n",
    "players_map_inv = {val:i for i,val in enumerate(player_unique)}\n",
    "\n",
    "teams_map = {i:val for i,val in enumerate(teams_unique)}\n",
    "teams_map_inv = {val:i for i,val in enumerate(teams_unique)}\n",
    "\n",
    "decks_map = {i:val for i,val in enumerate(deck_unique)}\n",
    "decks_map_inv = {val:i for i,val in enumerate(deck_unique)}\n",
    "\n",
    "archetypes_map = {i:val for i,val in enumerate(archetype_unique)}\n",
    "archetypes_map_inv = {val:i for i,val in enumerate(archetype_unique)}\n",
    "\n",
    "usages_map = {i:val for i,val in enumerate(usage_unique)}\n",
    "usages_map_inv = {val:i for i,val in enumerate(usage_unique)}"
   ]
  },
  {
   "cell_type": "code",
   "execution_count": 14,
   "metadata": {},
   "outputs": [
    {
     "data": {
      "text/plain": [
       "<matplotlib.axes._subplots.AxesSubplot at 0x1b4bb401e80>"
      ]
     },
     "execution_count": 14,
     "metadata": {},
     "output_type": "execute_result"
    },
    {
     "data": {
      "image/png": "[encoded data removed]",
      "text/plain": [
       "<Figure size 432x288 with 1 Axes>"
      ]
     },
     "metadata": {
      "needs_background": "light"
     },
     "output_type": "display_data"
    }
   ],
   "source": [
    "sns.distplot(data_original['Games'], bins = 7)"
   ]
  },
  {
   "cell_type": "markdown",
   "metadata": {},
   "source": [
    "## Mapping Cards"
   ]
  },
  {
   "cell_type": "code",
   "execution_count": 15,
   "metadata": {},
   "outputs": [],
   "source": [
    "data_original['CardKeysRaw'] = data_original['CardKeysRaw'].str.replace('-', '')\n",
    "data_original['CardKeysRawSorted'] = data_original['CardKeysRawSorted'].str.replace('-', '')"
   ]
  },
  {
   "cell_type": "code",
   "execution_count": 16,
   "metadata": {},
   "outputs": [
    {
     "name": "stdout",
     "output_type": "stream",
     "text": [
      "Found 92 unique tokens.\n",
      "There are 41782 sequences\n"
     ]
    }
   ],
   "source": [
    "MAX_NB_CARDS = 200 #decided by cumsum wordcount plot (Script 01)\n",
    "MAX_SEQUENCE_LENGTH = 8 #decided by max words in a product (Script 00)\n",
    "EMBEDDING_DIM = 8 #Same dim as our W2V embedding\n",
    "\n",
    "all_cards = data_original['CardKeysRaw']\n",
    "all_cards = all_cards.drop_duplicates (keep = False)\n",
    "\n",
    "tokenizer = Tokenizer(num_words=MAX_NB_CARDS)\n",
    "tokenizer.fit_on_texts(all_cards)\n",
    "\n",
    "data_sequences = tokenizer.texts_to_sequences(data_original['CardKeysRaw'])\n",
    "#data_matrix = tokenizer.\n",
    "X = pad_sequences(data_sequences, maxlen=MAX_SEQUENCE_LENGTH)\n",
    "\n",
    "word_index = tokenizer.word_index\n",
    "index_word = dict(map(reversed, tokenizer.word_index.items()))\n",
    "y = np.array(data_original['deck_id_int']) \n",
    "\n",
    "print('Found %s unique tokens.' % len(word_index))\n",
    "print (f'There are {len(X)} sequences')\n",
    "#print(word_index)\n",
    "#print(data_vec[0])\n",
    "#print(data_original['CardKeysRaw'].loc[0])"
   ]
  },
  {
   "cell_type": "code",
   "execution_count": 17,
   "metadata": {},
   "outputs": [
    {
     "name": "stdout",
     "output_type": "stream",
     "text": [
      "[[21 24 10 13 85 17  5 40]\n",
      " [21 24 13 10 85 17  5 40]\n",
      " [24 21 10 13 85 17  5 40]]\n",
      "[4 4 4]\n"
     ]
    }
   ],
   "source": [
    "print(X[0:3])\n",
    "print(y[0:3])"
   ]
  },
  {
   "cell_type": "code",
   "execution_count": 18,
   "metadata": {},
   "outputs": [
    {
     "name": "stdout",
     "output_type": "stream",
     "text": [
      "0\n",
      "Features: skeletons-icespirit-icegolem-thelog-cannon-musketeer-fireball-hogrider\n",
      "Label: 4\n",
      "\n",
      "1\n",
      "Features: skeletons-icespirit-thelog-icegolem-cannon-musketeer-fireball-hogrider\n",
      "Label: 4\n",
      "\n",
      "2\n",
      "Features: icespirit-skeletons-icegolem-thelog-cannon-musketeer-fireball-hogrider\n",
      "Label: 4\n",
      "\n"
     ]
    }
   ],
   "source": [
    "for i, seq in enumerate(X[0:3]):\n",
    "    print(i)\n",
    "    my_cards = []\n",
    "    for idx in seq:\n",
    "        my_cards.append(index_word[idx])\n",
    "    print('Features: ' + '-'.join(my_cards))\n",
    "    print('Label: ' + str(y[i+4]) + '\\n')    "
   ]
  },
  {
   "cell_type": "code",
   "execution_count": 19,
   "metadata": {},
   "outputs": [],
   "source": [
    "data_original['Winrate'] = data_original.Wins / data_original.Games"
   ]
  },
  {
   "cell_type": "code",
   "execution_count": 20,
   "metadata": {},
   "outputs": [],
   "source": [
    "def split_train_valid(x, y, rate):\n",
    "    idx = int(x.shape[0] * rate)\n",
    "    return x[idx:], y[idx:], x[:idx], y[:idx]\n",
    "              \n",
    "X_train, y_train, X_valid, y_valid = split_train_valid(X, y, rate = 0.1)"
   ]
  },
  {
   "cell_type": "code",
   "execution_count": 21,
   "metadata": {},
   "outputs": [
    {
     "name": "stdout",
     "output_type": "stream",
     "text": [
      "(41782, 8)\n",
      "(37604, 8)\n",
      "(4178, 8)\n"
     ]
    }
   ],
   "source": [
    "print(X.shape)\n",
    "print(X_train.shape)\n",
    "print(X_valid.shape)"
   ]
  },
  {
   "cell_type": "markdown",
   "metadata": {},
   "source": [
    "## Model architecture"
   ]
  },
  {
   "cell_type": "markdown",
   "metadata": {},
   "source": [
    "### Output"
   ]
  },
  {
   "cell_type": "code",
   "execution_count": 22,
   "metadata": {},
   "outputs": [
    {
     "data": {
      "text/plain": [
       "93"
      ]
     },
     "execution_count": 22,
     "metadata": {},
     "output_type": "execute_result"
    }
   ],
   "source": [
    "len(word_index)+1"
   ]
  },
  {
   "cell_type": "code",
   "execution_count": 26,
   "metadata": {},
   "outputs": [
    {
     "data": {
      "text/plain": [
       "(37604, 93)"
      ]
     },
     "execution_count": 26,
     "metadata": {},
     "output_type": "execute_result"
    }
   ],
   "source": [
    "y_train.shape"
   ]
  },
  {
   "cell_type": "code",
   "execution_count": 30,
   "metadata": {},
   "outputs": [],
   "source": [
    "y_train = np.zeros((y_train.shape[0], len(word_index)+1), dtype=np.int8)\n",
    "y_valid = np.zeros((y_valid.shape[0], len(word_index)+1), dtype=np.int8)\n",
    "\n",
    "# One hot encoding of labels\n",
    "for i in range(X_train.shape[0]):\n",
    "    for val in (X_train[i]):\n",
    "        y_train[i, val] = 1\n",
    "        \n",
    "for i in range(X_valid.shape[0]):\n",
    "    for val in (X_valid[i]):\n",
    "        y_valid[i, val] = 1"
   ]
  },
  {
   "cell_type": "code",
   "execution_count": 31,
   "metadata": {},
   "outputs": [],
   "source": [
    "#CAT_DECKS = len(deck_unique)\n",
    "#decks_encoded_train = to_categorical(y_train, num_classes = CAT_DECKS)\n",
    "#decks_encoded_valid = to_categorical(y_train, num_classes = CAT_DECKS)\n",
    "#print(decks_encoded_train)\n",
    "#print(decks_encoded_train.shape)"
   ]
  },
  {
   "cell_type": "code",
   "execution_count": 32,
   "metadata": {},
   "outputs": [
    {
     "data": {
      "text/html": [
       "<div>\n",
       "<style scoped>\n",
       "    .dataframe tbody tr th:only-of-type {\n",
       "        vertical-align: middle;\n",
       "    }\n",
       "\n",
       "    .dataframe tbody tr th {\n",
       "        vertical-align: top;\n",
       "    }\n",
       "\n",
       "    .dataframe thead th {\n",
       "        text-align: right;\n",
       "    }\n",
       "</style>\n",
       "<table border=\"1\" class=\"dataframe\">\n",
       "  <thead>\n",
       "    <tr style=\"text-align: right;\">\n",
       "      <th></th>\n",
       "      <th>Player</th>\n",
       "      <th>Tag</th>\n",
       "      <th>TeamId</th>\n",
       "      <th>Team</th>\n",
       "      <th>DeckId</th>\n",
       "      <th>Archetype</th>\n",
       "      <th>Usage</th>\n",
       "      <th>CardKeysRaw</th>\n",
       "      <th>Games</th>\n",
       "      <th>Losses</th>\n",
       "      <th>Wins</th>\n",
       "      <th>BattleTime</th>\n",
       "      <th>date</th>\n",
       "      <th>CardKeysRawSorted</th>\n",
       "      <th>deck</th>\n",
       "      <th>times</th>\n",
       "      <th>deck_id_int</th>\n",
       "      <th>Winrate</th>\n",
       "    </tr>\n",
       "  </thead>\n",
       "  <tbody>\n",
       "    <tr>\n",
       "      <th>0</th>\n",
       "      <td>Lince™</td>\n",
       "      <td>G9UUP2GY</td>\n",
       "      <td>70</td>\n",
       "      <td>CRL EU</td>\n",
       "      <td>8330785</td>\n",
       "      <td>Hogrider</td>\n",
       "      <td>SameClan</td>\n",
       "      <td>skeletons,icespirit,icegolem,thelog,cannon,musketeer,fireball,hogrider</td>\n",
       "      <td>142</td>\n",
       "      <td>51</td>\n",
       "      <td>91</td>\n",
       "      <td>2019-05-11</td>\n",
       "      <td>2019-05-11</td>\n",
       "      <td>cannon, fireball, hogrider, icegolem, icespirit, musketeer, skeletons, thelog</td>\n",
       "      <td>cannon, fireball, hog-rider, ice-golem, ice-spirit, musketeer, skeletons, the-log</td>\n",
       "      <td>296</td>\n",
       "      <td>4</td>\n",
       "      <td>0.640845</td>\n",
       "    </tr>\n",
       "    <tr>\n",
       "      <th>1</th>\n",
       "      <td>Chiqui</td>\n",
       "      <td>200L89QP</td>\n",
       "      <td>71</td>\n",
       "      <td>SLO - QLASH</td>\n",
       "      <td>8523346</td>\n",
       "      <td>Hogrider</td>\n",
       "      <td>SameClan</td>\n",
       "      <td>skeletons,icespirit,thelog,icegolem,cannon,musketeer,fireball,hogrider</td>\n",
       "      <td>7</td>\n",
       "      <td>3</td>\n",
       "      <td>4</td>\n",
       "      <td>2019-05-11</td>\n",
       "      <td>2019-05-11</td>\n",
       "      <td>cannon, fireball, hogrider, icegolem, icespirit, musketeer, skeletons, thelog</td>\n",
       "      <td>cannon, fireball, hog-rider, ice-golem, ice-spirit, musketeer, skeletons, the-log</td>\n",
       "      <td>296</td>\n",
       "      <td>4</td>\n",
       "      <td>0.571429</td>\n",
       "    </tr>\n",
       "    <tr>\n",
       "      <th>2</th>\n",
       "      <td>xPedro15</td>\n",
       "      <td>VLURPP9</td>\n",
       "      <td>70</td>\n",
       "      <td>CRL EU</td>\n",
       "      <td>8526335</td>\n",
       "      <td>Hogrider</td>\n",
       "      <td>Friendly</td>\n",
       "      <td>icespirit,skeletons,icegolem,thelog,cannon,musketeer,fireball,hogrider</td>\n",
       "      <td>14</td>\n",
       "      <td>6</td>\n",
       "      <td>8</td>\n",
       "      <td>2019-05-11</td>\n",
       "      <td>2019-05-11</td>\n",
       "      <td>cannon, fireball, hogrider, icegolem, icespirit, musketeer, skeletons, thelog</td>\n",
       "      <td>cannon, fireball, hog-rider, ice-golem, ice-spirit, musketeer, skeletons, the-log</td>\n",
       "      <td>296</td>\n",
       "      <td>4</td>\n",
       "      <td>0.571429</td>\n",
       "    </tr>\n",
       "  </tbody>\n",
       "</table>\n",
       "</div>"
      ],
      "text/plain": [
       "     Player       Tag  TeamId         Team   DeckId Archetype     Usage  \\\n",
       "0  Lince™    G9UUP2GY  70      CRL EU       8330785  Hogrider  SameClan   \n",
       "1  Chiqui    200L89QP  71      SLO - QLASH  8523346  Hogrider  SameClan   \n",
       "2  xPedro15  VLURPP9   70      CRL EU       8526335  Hogrider  Friendly   \n",
       "\n",
       "                                                              CardKeysRaw  \\\n",
       "0  skeletons,icespirit,icegolem,thelog,cannon,musketeer,fireball,hogrider   \n",
       "1  skeletons,icespirit,thelog,icegolem,cannon,musketeer,fireball,hogrider   \n",
       "2  icespirit,skeletons,icegolem,thelog,cannon,musketeer,fireball,hogrider   \n",
       "\n",
       "   Games  Losses  Wins  BattleTime        date  \\\n",
       "0  142    51      91    2019-05-11  2019-05-11   \n",
       "1  7      3       4     2019-05-11  2019-05-11   \n",
       "2  14     6       8     2019-05-11  2019-05-11   \n",
       "\n",
       "                                                               CardKeysRawSorted  \\\n",
       "0  cannon, fireball, hogrider, icegolem, icespirit, musketeer, skeletons, thelog   \n",
       "1  cannon, fireball, hogrider, icegolem, icespirit, musketeer, skeletons, thelog   \n",
       "2  cannon, fireball, hogrider, icegolem, icespirit, musketeer, skeletons, thelog   \n",
       "\n",
       "                                                                                deck  \\\n",
       "0  cannon, fireball, hog-rider, ice-golem, ice-spirit, musketeer, skeletons, the-log   \n",
       "1  cannon, fireball, hog-rider, ice-golem, ice-spirit, musketeer, skeletons, the-log   \n",
       "2  cannon, fireball, hog-rider, ice-golem, ice-spirit, musketeer, skeletons, the-log   \n",
       "\n",
       "   times  deck_id_int   Winrate  \n",
       "0  296    4            0.640845  \n",
       "1  296    4            0.571429  \n",
       "2  296    4            0.571429  "
      ]
     },
     "execution_count": 32,
     "metadata": {},
     "output_type": "execute_result"
    }
   ],
   "source": [
    "data_original.head(3)"
   ]
  },
  {
   "cell_type": "code",
   "execution_count": 37,
   "metadata": {},
   "outputs": [],
   "source": [
    "def get_model_Seq(CAT_OUTPUTS):\n",
    "    model = Sequential()\n",
    "\n",
    "    # Embedding layer\n",
    "    model.add(Embedding(input_dim=len(word_index) + 1,\n",
    "                    output_dim=30,\n",
    "                    weights=None,\n",
    "                    trainable=True, name = 'Cards'))\n",
    "    \n",
    "    #model.add(Masking()) #Para los zeros\n",
    "\n",
    "    # Recurrent layer\n",
    "    #model.add(LSTM(64, return_sequences=True, dropout=0.2, recurrent_dropout=0.1))\n",
    "    model.add(Bidirectional(LSTM(64, return_sequences=False, dropout=0.2, recurrent_dropout=0.1)))\n",
    "\n",
    "    # Fully connected layer\n",
    "    model.add(Dense(64, activation = 'relu'))\n",
    "\n",
    "    # Dropout for regularization\n",
    "    model.add(Dropout(0.4))\n",
    "    \n",
    "    model.add(Dense(32, activation = 'relu'))\n",
    "    \n",
    "    model.add(Dropout(0.3))\n",
    "\n",
    "    # Output layer\n",
    "    model.add(Dense(CAT_OUTPUTS, activation='softmax'))\n",
    "\n",
    "    # Compile the model\n",
    "    model.compile(optimizer='rmsprop', loss='categorical_crossentropy', metrics=['accuracy'])\n",
    "\n",
    "    model.summary()\n",
    "    \n",
    "    return model"
   ]
  },
  {
   "cell_type": "code",
   "execution_count": 39,
   "metadata": {
    "scrolled": true
   },
   "outputs": [
    {
     "name": "stdout",
     "output_type": "stream",
     "text": [
      "_________________________________________________________________\n",
      "Layer (type)                 Output Shape              Param #   \n",
      "=================================================================\n",
      "Cards (Embedding)            (None, None, 30)          2790      \n",
      "_________________________________________________________________\n",
      "bidirectional_1 (Bidirection (None, 128)               48640     \n",
      "_________________________________________________________________\n",
      "dense_7 (Dense)              (None, 64)                8256      \n",
      "_________________________________________________________________\n",
      "dropout_5 (Dropout)          (None, 64)                0         \n",
      "_________________________________________________________________\n",
      "dense_8 (Dense)              (None, 32)                2080      \n",
      "_________________________________________________________________\n",
      "dropout_6 (Dropout)          (None, 32)                0         \n",
      "_________________________________________________________________\n",
      "dense_9 (Dense)              (None, 93)                3069      \n",
      "=================================================================\n",
      "Total params: 64,835\n",
      "Trainable params: 64,835\n",
      "Non-trainable params: 0\n",
      "_________________________________________________________________\n",
      "Train on 37604 samples, validate on 4178 samples\n",
      "Epoch 1/1\n",
      "37604/37604 [==============================] - 292s 8ms/step - loss: 32.8334 - acc: 0.2022 - val_loss: 31.0870 - val_acc: 0.1407\n"
     ]
    }
   ],
   "source": [
    "model = get_model_Seq(len(word_index)+1)\n",
    "\n",
    "# Sequence\n",
    "\n",
    "#class_weights = {0: 1.0, 1: 2.0}\n",
    "\n",
    "history = model.fit(X_train,\n",
    "                    y_train,\n",
    "                    validation_data = (X_valid, y_valid), \n",
    "                    epochs = 1, class_weight = None,\n",
    "                    batch_size = 128, shuffle = False, verbose = 1)\n",
    "\n",
    "# Classifier\n",
    "#history = model.fit([data_feed['Tag'], data_feed['TeamId'], data_feed['Archetype'], data_feed['Usage'],\n",
    "#                    data_feed['Games'], data_feed['Wins'], data_feed['Losses'], data_feed['deck_id_int'], data_vec],\n",
    "#                    [decks_encoded, data_feed['Winrate']], \n",
    "#                    epochs = 4, validation_split = 0.1,\n",
    "#                    batch_size = 64, \n",
    "#                    shuffle = True)"
   ]
  },
  {
   "cell_type": "code",
   "execution_count": 40,
   "metadata": {},
   "outputs": [
    {
     "name": "stdout",
     "output_type": "stream",
     "text": [
      "4178/4178 [==============================] - 17s 4ms/step\n"
     ]
    }
   ],
   "source": [
    "pred = model.predict(X_valid, verbose = 1)"
   ]
  },
  {
   "cell_type": "code",
   "execution_count": 41,
   "metadata": {},
   "outputs": [
    {
     "name": "stdout",
     "output_type": "stream",
     "text": [
      "(4178, 93)\n",
      "(93,)\n"
     ]
    }
   ],
   "source": [
    "print(pred.shape)\n",
    "print(pred[0].shape)"
   ]
  },
  {
   "cell_type": "code",
   "execution_count": 53,
   "metadata": {},
   "outputs": [
    {
     "data": {
      "text/plain": [
       "array([0.0017483 , 0.03185065, 0.02369278, 0.02373326, 0.01135606,\n",
       "       0.02222549, 0.04156791, 0.02322602, 0.01720154, 0.0142679 ],\n",
       "      dtype=float32)"
      ]
     },
     "execution_count": 53,
     "metadata": {},
     "output_type": "execute_result"
    }
   ],
   "source": [
    "pred[0][:10]"
   ]
  },
  {
   "cell_type": "code",
   "execution_count": 58,
   "metadata": {},
   "outputs": [
    {
     "data": {
      "text/plain": [
       "array([ 6,  1,  3,  2, 14,  7, 10,  5], dtype=int64)"
      ]
     },
     "execution_count": 58,
     "metadata": {},
     "output_type": "execute_result"
    }
   ],
   "source": [
    "pred[0].argsort()[-8:][::-1]"
   ]
  },
  {
   "cell_type": "code",
   "execution_count": 57,
   "metadata": {},
   "outputs": [
    {
     "data": {
      "text/plain": [
       "array([21, 40,  5, 85, 17, 10, 24, 13], dtype=int64)"
      ]
     },
     "execution_count": 57,
     "metadata": {},
     "output_type": "execute_result"
    }
   ],
   "source": [
    "y_valid[0].argsort()[-8:][::-1]"
   ]
  },
  {
   "cell_type": "code",
   "execution_count": 55,
   "metadata": {},
   "outputs": [
    {
     "data": {
      "text/plain": [
       "'skeletons,icespirit,icegolem,thelog,cannon,musketeer,fireball,hogrider'"
      ]
     },
     "execution_count": 55,
     "metadata": {},
     "output_type": "execute_result"
    }
   ],
   "source": [
    "data_original.CardKeysRaw[0]"
   ]
  },
  {
   "cell_type": "code",
   "execution_count": 56,
   "metadata": {},
   "outputs": [
    {
     "data": {
      "text/plain": [
       "{'giantsnowball': 1,\n",
       " 'poison': 2,\n",
       " 'barbarianbarrel': 3,\n",
       " 'megaminion': 4,\n",
       " 'fireball': 5,\n",
       " 'bats': 6,\n",
       " 'miner': 7,\n",
       " 'lumberjack': 8,\n",
       " 'babydragon': 9,\n",
       " 'icegolem': 10,\n",
       " 'bandit': 11,\n",
       " 'guards': 12,\n",
       " 'thelog': 13,\n",
       " 'goblingang': 14,\n",
       " 'zap': 15,\n",
       " 'electrowizard': 16,\n",
       " 'musketeer': 17,\n",
       " 'tornado': 18,\n",
       " 'minions': 19,\n",
       " 'flyingmachine': 20,\n",
       " 'skeletons': 21,\n",
       " 'infernodragon': 22,\n",
       " 'prince': 23,\n",
       " 'icespirit': 24,\n",
       " 'tombstone': 25,\n",
       " 'pekka': 26,\n",
       " 'golem': 27,\n",
       " 'lavahound': 28,\n",
       " 'ramrider': 29,\n",
       " 'royalhogs': 30,\n",
       " 'barbarians': 31,\n",
       " 'princess': 32,\n",
       " 'battleram': 33,\n",
       " 'infernotower': 34,\n",
       " 'dartgoblin': 35,\n",
       " 'megaknight': 36,\n",
       " 'icewizard': 37,\n",
       " 'electrodragon': 38,\n",
       " 'giant': 39,\n",
       " 'hogrider': 40,\n",
       " 'rascals': 41,\n",
       " 'balloon': 42,\n",
       " 'darkprince': 43,\n",
       " 'furnace': 44,\n",
       " 'lightning': 45,\n",
       " 'royalgiant': 46,\n",
       " 'hunter': 47,\n",
       " 'goblinbarrel': 48,\n",
       " 'graveyard': 49,\n",
       " 'goblinhut': 50,\n",
       " 'minionhorde': 51,\n",
       " 'clone': 52,\n",
       " 'speargoblins': 53,\n",
       " 'skeletonarmy': 54,\n",
       " 'royalghost': 55,\n",
       " 'witch': 56,\n",
       " 'nightwitch': 57,\n",
       " 'minipekka': 58,\n",
       " 'elixircollector': 59,\n",
       " 'valkyrie': 60,\n",
       " 'magicarcher': 61,\n",
       " 'sparky': 62,\n",
       " 'skeletonbarrel': 63,\n",
       " 'goblingiant': 64,\n",
       " 'rocket': 65,\n",
       " 'giantskeleton': 66,\n",
       " 'zappies': 67,\n",
       " 'mortar': 68,\n",
       " 'bombtower': 69,\n",
       " 'archers': 70,\n",
       " 'freeze': 71,\n",
       " 'knight': 72,\n",
       " 'threemusketeers': 73,\n",
       " 'xbow': 74,\n",
       " 'tesla': 75,\n",
       " 'goblins': 76,\n",
       " 'barbarianhut': 77,\n",
       " 'mirror': 78,\n",
       " 'royalrecruits': 79,\n",
       " 'firespirits': 80,\n",
       " 'earthquake': 81,\n",
       " 'bowler': 82,\n",
       " 'wizard': 83,\n",
       " 'arrows': 84,\n",
       " 'cannon': 85,\n",
       " 'wallbreakers': 86,\n",
       " 'cannoncart': 87,\n",
       " 'bomber': 88,\n",
       " 'executioner': 89,\n",
       " 'heal': 90,\n",
       " 'rage': 91,\n",
       " 'elitebarbarians': 92}"
      ]
     },
     "execution_count": 56,
     "metadata": {},
     "output_type": "execute_result"
    }
   ],
   "source": [
    "word_index"
   ]
  }
 ],
 "metadata": {
  "kernelspec": {
   "display_name": "Python 3",
   "language": "python",
   "name": "python3"
  },
  "language_info": {
   "codemirror_mode": {
    "name": "ipython",
    "version": 3
   },
   "file_extension": ".py",
   "mimetype": "text/x-python",
   "name": "python",
   "nbconvert_exporter": "python",
   "pygments_lexer": "ipython3",
   "version": "3.6.8"
  }
 },
 "nbformat": 4,
 "nbformat_minor": 2
}

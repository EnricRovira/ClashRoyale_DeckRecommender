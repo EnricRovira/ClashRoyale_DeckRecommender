{
 "cells": [
  {
   "cell_type": "code",
   "execution_count": 1,
   "metadata": {},
   "outputs": [
    {
     "name": "stderr",
     "output_type": "stream",
     "text": [
      "Using TensorFlow backend.\n"
     ]
    }
   ],
   "source": [
    "import keras\n",
    "import pandas as pd\n",
    "import numpy as np\n",
    "import matplotlib.pyplot as plt\n",
    "import os, sys\n",
    "import seaborn as sns\n",
    "import gc\n",
    "\n",
    "from keras.preprocessing.sequence import pad_sequences\n",
    "from keras.preprocessing.text import Tokenizer\n",
    "from keras.layers import Embedding\n",
    "\n",
    "from keras.models import Model, Sequential, load_model\n",
    "from keras.layers import Input, Flatten, Dense, Conv1D, MaxPooling1D, GlobalMaxPool1D, SpatialDropout1D, \\\n",
    "                          UpSampling1D, LSTM, RepeatVector, TimeDistributed, GRU, Bidirectional, concatenate, \\\n",
    "                          Reshape, Dropout, BatchNormalization, Embedding, GlobalAveragePooling2D\n",
    "\n",
    "from sklearn.preprocessing import StandardScaler, MinMaxScaler\n",
    "from keras.utils import to_categorical\n",
    "\n",
    "from sklearn.model_selection import train_test_split\n",
    "import matplotlib.pyplot as plt\n",
    "\n",
    "#from utils import get_model, find_closest, get_sequences, create_train_valid,  generate_output, guess_human\n",
    "\n",
    "import warnings\n",
    "warnings.filterwarnings('ignore', category = RuntimeWarning)\n",
    "warnings.filterwarnings('ignore', category = UserWarning)\n",
    "pd.set_option('max_colwidth', -1)"
   ]
  },
  {
   "cell_type": "code",
   "execution_count": 2,
   "metadata": {},
   "outputs": [
    {
     "name": "stdout",
     "output_type": "stream",
     "text": [
      "(11826, 12)\n"
     ]
    },
    {
     "data": {
      "text/html": [
       "<div>\n",
       "<style scoped>\n",
       "    .dataframe tbody tr th:only-of-type {\n",
       "        vertical-align: middle;\n",
       "    }\n",
       "\n",
       "    .dataframe tbody tr th {\n",
       "        vertical-align: top;\n",
       "    }\n",
       "\n",
       "    .dataframe thead th {\n",
       "        text-align: right;\n",
       "    }\n",
       "</style>\n",
       "<table border=\"1\" class=\"dataframe\">\n",
       "  <thead>\n",
       "    <tr style=\"text-align: right;\">\n",
       "      <th></th>\n",
       "      <th>Player</th>\n",
       "      <th>Tag</th>\n",
       "      <th>TeamId</th>\n",
       "      <th>Team</th>\n",
       "      <th>DeckId</th>\n",
       "      <th>Archetype</th>\n",
       "      <th>Usage</th>\n",
       "      <th>CardKeysRaw</th>\n",
       "      <th>Games</th>\n",
       "      <th>Losses</th>\n",
       "      <th>Wins</th>\n",
       "      <th>BattleTime</th>\n",
       "    </tr>\n",
       "  </thead>\n",
       "  <tbody>\n",
       "    <tr>\n",
       "      <th>0</th>\n",
       "      <td>MRS pablo98</td>\n",
       "      <td>QC9CY9JC</td>\n",
       "      <td>78.0</td>\n",
       "      <td>SLO - Movistar Riders</td>\n",
       "      <td>9242429.0</td>\n",
       "      <td>3Musk</td>\n",
       "      <td>Challenge</td>\n",
       "      <td>skeletons,the-log,ice-golem,fireball,hunter,dark-prince,royal-hogs,three-musketeers</td>\n",
       "      <td>24.0</td>\n",
       "      <td>7.0</td>\n",
       "      <td>16.0</td>\n",
       "      <td>2019-05-11 09:08:59.0000000</td>\n",
       "    </tr>\n",
       "    <tr>\n",
       "      <th>1</th>\n",
       "      <td>Arctic Periko</td>\n",
       "      <td>88JQL8RR</td>\n",
       "      <td>77.0</td>\n",
       "      <td>SLO - Arctic Gaming</td>\n",
       "      <td>9242888.0</td>\n",
       "      <td>BridgeSpam</td>\n",
       "      <td>Challenge</td>\n",
       "      <td>ice-golem,giant-snowball,bandit,minions,inferno-dragon,fireball,dark-prince,battle-ram</td>\n",
       "      <td>10.0</td>\n",
       "      <td>4.0</td>\n",
       "      <td>6.0</td>\n",
       "      <td>2019-05-11 09:06:07.0000000</td>\n",
       "    </tr>\n",
       "    <tr>\n",
       "      <th>2</th>\n",
       "      <td>VGIA Rouber</td>\n",
       "      <td>RRJVLQ2Q</td>\n",
       "      <td>11.0</td>\n",
       "      <td>SLO - Vodafone Giants</td>\n",
       "      <td>9245246.0</td>\n",
       "      <td>Golem</td>\n",
       "      <td>Challenge</td>\n",
       "      <td>barbarian-barrel,tornado,mega-minion,baby-dragon,dark-prince,prince,electro-dragon,golem</td>\n",
       "      <td>1.0</td>\n",
       "      <td>0.0</td>\n",
       "      <td>1.0</td>\n",
       "      <td>2019-05-11 09:02:59.0000000</td>\n",
       "    </tr>\n",
       "    <tr>\n",
       "      <th>3</th>\n",
       "      <td>Fernando725</td>\n",
       "      <td>220QQ9R2</td>\n",
       "      <td>80.0</td>\n",
       "      <td>SLO - Cream eSports</td>\n",
       "      <td>9245241.0</td>\n",
       "      <td>PekkaRam</td>\n",
       "      <td>Challenge</td>\n",
       "      <td>giant-snowball,bandit,minions,dark-prince,electro-wizard,poison,battle-ram,pekka</td>\n",
       "      <td>4.0</td>\n",
       "      <td>0.0</td>\n",
       "      <td>4.0</td>\n",
       "      <td>2019-05-11 08:40:59.0000000</td>\n",
       "    </tr>\n",
       "    <tr>\n",
       "      <th>4</th>\n",
       "      <td>GIA Yeray</td>\n",
       "      <td>VPVR8G2</td>\n",
       "      <td>11.0</td>\n",
       "      <td>SLO - Vodafone Giants</td>\n",
       "      <td>9191516.0</td>\n",
       "      <td>RoyalGiant</td>\n",
       "      <td>Match</td>\n",
       "      <td>barbarian-barrel,guards,mega-minion,baby-dragon,electro-wizard,furnace,lightning,royal-giant</td>\n",
       "      <td>19.0</td>\n",
       "      <td>12.0</td>\n",
       "      <td>7.0</td>\n",
       "      <td>2019-05-11 04:18:26.0000000</td>\n",
       "    </tr>\n",
       "  </tbody>\n",
       "</table>\n",
       "</div>"
      ],
      "text/plain": [
       "          Player       Tag  TeamId                   Team     DeckId  \\\n",
       "0  MRS pablo98    QC9CY9JC  78.0    SLO - Movistar Riders  9242429.0   \n",
       "1  Arctic Periko  88JQL8RR  77.0    SLO - Arctic Gaming    9242888.0   \n",
       "2  VGIA Rouber    RRJVLQ2Q  11.0    SLO - Vodafone Giants  9245246.0   \n",
       "3  Fernando725    220QQ9R2  80.0    SLO - Cream eSports    9245241.0   \n",
       "4  GIA Yeray      VPVR8G2   11.0    SLO - Vodafone Giants  9191516.0   \n",
       "\n",
       "    Archetype      Usage  \\\n",
       "0  3Musk       Challenge   \n",
       "1  BridgeSpam  Challenge   \n",
       "2  Golem       Challenge   \n",
       "3  PekkaRam    Challenge   \n",
       "4  RoyalGiant  Match       \n",
       "\n",
       "                                                                                    CardKeysRaw  \\\n",
       "0  skeletons,the-log,ice-golem,fireball,hunter,dark-prince,royal-hogs,three-musketeers            \n",
       "1  ice-golem,giant-snowball,bandit,minions,inferno-dragon,fireball,dark-prince,battle-ram         \n",
       "2  barbarian-barrel,tornado,mega-minion,baby-dragon,dark-prince,prince,electro-dragon,golem       \n",
       "3  giant-snowball,bandit,minions,dark-prince,electro-wizard,poison,battle-ram,pekka               \n",
       "4  barbarian-barrel,guards,mega-minion,baby-dragon,electro-wizard,furnace,lightning,royal-giant   \n",
       "\n",
       "   Games  Losses  Wins                   BattleTime  \n",
       "0  24.0   7.0     16.0  2019-05-11 09:08:59.0000000  \n",
       "1  10.0   4.0     6.0   2019-05-11 09:06:07.0000000  \n",
       "2  1.0    0.0     1.0   2019-05-11 09:02:59.0000000  \n",
       "3  4.0    0.0     4.0   2019-05-11 08:40:59.0000000  \n",
       "4  19.0   12.0    7.0   2019-05-11 04:18:26.0000000  "
      ]
     },
     "execution_count": 2,
     "metadata": {},
     "output_type": "execute_result"
    }
   ],
   "source": [
    "data_original = pd.read_csv('data_rec.csv', sep = ';')\n",
    "print(data_original.shape)\n",
    "data_original.head()"
   ]
  },
  {
   "cell_type": "markdown",
   "metadata": {},
   "source": [
    "### Data cleaning"
   ]
  },
  {
   "cell_type": "code",
   "execution_count": 3,
   "metadata": {},
   "outputs": [],
   "source": [
    "data_original['date'] = pd.to_datetime(data_original['BattleTime']).dt.date"
   ]
  },
  {
   "cell_type": "code",
   "execution_count": 4,
   "metadata": {},
   "outputs": [],
   "source": [
    "data_original.dropna(axis = 0, inplace = True)"
   ]
  },
  {
   "cell_type": "code",
   "execution_count": 5,
   "metadata": {},
   "outputs": [
    {
     "data": {
      "text/html": [
       "<div>\n",
       "<style scoped>\n",
       "    .dataframe tbody tr th:only-of-type {\n",
       "        vertical-align: middle;\n",
       "    }\n",
       "\n",
       "    .dataframe tbody tr th {\n",
       "        vertical-align: top;\n",
       "    }\n",
       "\n",
       "    .dataframe thead th {\n",
       "        text-align: right;\n",
       "    }\n",
       "</style>\n",
       "<table border=\"1\" class=\"dataframe\">\n",
       "  <thead>\n",
       "    <tr style=\"text-align: right;\">\n",
       "      <th></th>\n",
       "      <th>Player</th>\n",
       "      <th>Tag</th>\n",
       "      <th>TeamId</th>\n",
       "      <th>Team</th>\n",
       "      <th>DeckId</th>\n",
       "      <th>Archetype</th>\n",
       "      <th>Usage</th>\n",
       "      <th>CardKeysRaw</th>\n",
       "      <th>Games</th>\n",
       "      <th>Losses</th>\n",
       "      <th>Wins</th>\n",
       "      <th>BattleTime</th>\n",
       "      <th>date</th>\n",
       "    </tr>\n",
       "  </thead>\n",
       "  <tbody>\n",
       "    <tr>\n",
       "      <th>0</th>\n",
       "      <td>MRS pablo98</td>\n",
       "      <td>QC9CY9JC</td>\n",
       "      <td>78</td>\n",
       "      <td>SLO - Movistar Riders</td>\n",
       "      <td>9242429</td>\n",
       "      <td>3Musk</td>\n",
       "      <td>Challenge</td>\n",
       "      <td>skeletons,the-log,ice-golem,fireball,hunter,dark-prince,royal-hogs,three-musketeers</td>\n",
       "      <td>24</td>\n",
       "      <td>7</td>\n",
       "      <td>16</td>\n",
       "      <td>2019-05-11 09:08:59.0000000</td>\n",
       "      <td>2019-05-11</td>\n",
       "    </tr>\n",
       "    <tr>\n",
       "      <th>1</th>\n",
       "      <td>Arctic Periko</td>\n",
       "      <td>88JQL8RR</td>\n",
       "      <td>77</td>\n",
       "      <td>SLO - Arctic Gaming</td>\n",
       "      <td>9242888</td>\n",
       "      <td>BridgeSpam</td>\n",
       "      <td>Challenge</td>\n",
       "      <td>ice-golem,giant-snowball,bandit,minions,inferno-dragon,fireball,dark-prince,battle-ram</td>\n",
       "      <td>10</td>\n",
       "      <td>4</td>\n",
       "      <td>6</td>\n",
       "      <td>2019-05-11 09:06:07.0000000</td>\n",
       "      <td>2019-05-11</td>\n",
       "    </tr>\n",
       "    <tr>\n",
       "      <th>2</th>\n",
       "      <td>VGIA Rouber</td>\n",
       "      <td>RRJVLQ2Q</td>\n",
       "      <td>11</td>\n",
       "      <td>SLO - Vodafone Giants</td>\n",
       "      <td>9245246</td>\n",
       "      <td>Golem</td>\n",
       "      <td>Challenge</td>\n",
       "      <td>barbarian-barrel,tornado,mega-minion,baby-dragon,dark-prince,prince,electro-dragon,golem</td>\n",
       "      <td>1</td>\n",
       "      <td>0</td>\n",
       "      <td>1</td>\n",
       "      <td>2019-05-11 09:02:59.0000000</td>\n",
       "      <td>2019-05-11</td>\n",
       "    </tr>\n",
       "    <tr>\n",
       "      <th>3</th>\n",
       "      <td>Fernando725</td>\n",
       "      <td>220QQ9R2</td>\n",
       "      <td>80</td>\n",
       "      <td>SLO - Cream eSports</td>\n",
       "      <td>9245241</td>\n",
       "      <td>PekkaRam</td>\n",
       "      <td>Challenge</td>\n",
       "      <td>giant-snowball,bandit,minions,dark-prince,electro-wizard,poison,battle-ram,pekka</td>\n",
       "      <td>4</td>\n",
       "      <td>0</td>\n",
       "      <td>4</td>\n",
       "      <td>2019-05-11 08:40:59.0000000</td>\n",
       "      <td>2019-05-11</td>\n",
       "    </tr>\n",
       "    <tr>\n",
       "      <th>4</th>\n",
       "      <td>GIA Yeray</td>\n",
       "      <td>VPVR8G2</td>\n",
       "      <td>11</td>\n",
       "      <td>SLO - Vodafone Giants</td>\n",
       "      <td>9191516</td>\n",
       "      <td>RoyalGiant</td>\n",
       "      <td>Match</td>\n",
       "      <td>barbarian-barrel,guards,mega-minion,baby-dragon,electro-wizard,furnace,lightning,royal-giant</td>\n",
       "      <td>19</td>\n",
       "      <td>12</td>\n",
       "      <td>7</td>\n",
       "      <td>2019-05-11 04:18:26.0000000</td>\n",
       "      <td>2019-05-11</td>\n",
       "    </tr>\n",
       "  </tbody>\n",
       "</table>\n",
       "</div>"
      ],
      "text/plain": [
       "          Player       Tag  TeamId                   Team   DeckId  \\\n",
       "0  MRS pablo98    QC9CY9JC  78      SLO - Movistar Riders  9242429   \n",
       "1  Arctic Periko  88JQL8RR  77      SLO - Arctic Gaming    9242888   \n",
       "2  VGIA Rouber    RRJVLQ2Q  11      SLO - Vodafone Giants  9245246   \n",
       "3  Fernando725    220QQ9R2  80      SLO - Cream eSports    9245241   \n",
       "4  GIA Yeray      VPVR8G2   11      SLO - Vodafone Giants  9191516   \n",
       "\n",
       "    Archetype      Usage  \\\n",
       "0  3Musk       Challenge   \n",
       "1  BridgeSpam  Challenge   \n",
       "2  Golem       Challenge   \n",
       "3  PekkaRam    Challenge   \n",
       "4  RoyalGiant  Match       \n",
       "\n",
       "                                                                                    CardKeysRaw  \\\n",
       "0  skeletons,the-log,ice-golem,fireball,hunter,dark-prince,royal-hogs,three-musketeers            \n",
       "1  ice-golem,giant-snowball,bandit,minions,inferno-dragon,fireball,dark-prince,battle-ram         \n",
       "2  barbarian-barrel,tornado,mega-minion,baby-dragon,dark-prince,prince,electro-dragon,golem       \n",
       "3  giant-snowball,bandit,minions,dark-prince,electro-wizard,poison,battle-ram,pekka               \n",
       "4  barbarian-barrel,guards,mega-minion,baby-dragon,electro-wizard,furnace,lightning,royal-giant   \n",
       "\n",
       "   Games  Losses  Wins                   BattleTime        date  \n",
       "0  24     7       16    2019-05-11 09:08:59.0000000  2019-05-11  \n",
       "1  10     4       6     2019-05-11 09:06:07.0000000  2019-05-11  \n",
       "2  1      0       1     2019-05-11 09:02:59.0000000  2019-05-11  \n",
       "3  4      0       4     2019-05-11 08:40:59.0000000  2019-05-11  \n",
       "4  19     12      7     2019-05-11 04:18:26.0000000  2019-05-11  "
      ]
     },
     "execution_count": 5,
     "metadata": {},
     "output_type": "execute_result"
    }
   ],
   "source": [
    "ints = ['TeamId', 'DeckId', 'Games', 'Losses', 'Wins']\n",
    "for col in ints:\n",
    "    data_original[col] = data_original[col].astype(int)\n",
    "data_original.head()"
   ]
  },
  {
   "cell_type": "markdown",
   "metadata": {},
   "source": [
    "### Clean Cards Ids"
   ]
  },
  {
   "cell_type": "code",
   "execution_count": 6,
   "metadata": {},
   "outputs": [],
   "source": [
    "#print(', '.join(sorted(data_original['CardKeysRaw'][0].split(','))))"
   ]
  },
  {
   "cell_type": "code",
   "execution_count": 7,
   "metadata": {},
   "outputs": [],
   "source": [
    "data_original['CardKeysRaw'] = data_original['CardKeysRaw'].apply(lambda x: ', '.join(sorted(x.split(','))))"
   ]
  },
  {
   "cell_type": "code",
   "execution_count": 8,
   "metadata": {},
   "outputs": [
    {
     "name": "stdout",
     "output_type": "stream",
     "text": [
      "(11825, 1)\n",
      "(4577, 2)\n"
     ]
    },
    {
     "data": {
      "text/html": [
       "<div>\n",
       "<style scoped>\n",
       "    .dataframe tbody tr th:only-of-type {\n",
       "        vertical-align: middle;\n",
       "    }\n",
       "\n",
       "    .dataframe tbody tr th {\n",
       "        vertical-align: top;\n",
       "    }\n",
       "\n",
       "    .dataframe thead th {\n",
       "        text-align: right;\n",
       "    }\n",
       "</style>\n",
       "<table border=\"1\" class=\"dataframe\">\n",
       "  <thead>\n",
       "    <tr style=\"text-align: right;\">\n",
       "      <th></th>\n",
       "      <th>deck</th>\n",
       "      <th>times</th>\n",
       "      <th>deck_id_int</th>\n",
       "    </tr>\n",
       "  </thead>\n",
       "  <tbody>\n",
       "    <tr>\n",
       "      <th>1134</th>\n",
       "      <td>balloon, barbarian-barrel, bats, giant-snowball, ice-golem, inferno-tower, miner, rascals</td>\n",
       "      <td>70</td>\n",
       "      <td>0</td>\n",
       "    </tr>\n",
       "    <tr>\n",
       "      <th>304</th>\n",
       "      <td>baby-dragon, bandit, barbarian-barrel, electro-wizard, giant-snowball, pekka, poison, ram-rider</td>\n",
       "      <td>69</td>\n",
       "      <td>1</td>\n",
       "    </tr>\n",
       "    <tr>\n",
       "      <th>2311</th>\n",
       "      <td>barbarian-barrel, bats, giant-snowball, inferno-tower, miner, poison, prince, spear-goblins</td>\n",
       "      <td>66</td>\n",
       "      <td>2</td>\n",
       "    </tr>\n",
       "    <tr>\n",
       "      <th>523</th>\n",
       "      <td>baby-dragon, barbarian-barrel, electro-wizard, furnace, guards, lightning, mega-minion, royal-giant</td>\n",
       "      <td>65</td>\n",
       "      <td>3</td>\n",
       "    </tr>\n",
       "    <tr>\n",
       "      <th>1851</th>\n",
       "      <td>bandit, battle-ram, fireball, giant-snowball, ice-golem, minions, musketeer, prince</td>\n",
       "      <td>65</td>\n",
       "      <td>4</td>\n",
       "    </tr>\n",
       "  </tbody>\n",
       "</table>\n",
       "</div>"
      ],
      "text/plain": [
       "                                                                                                     deck  \\\n",
       "1134  balloon, barbarian-barrel, bats, giant-snowball, ice-golem, inferno-tower, miner, rascals             \n",
       "304   baby-dragon, bandit, barbarian-barrel, electro-wizard, giant-snowball, pekka, poison, ram-rider       \n",
       "2311  barbarian-barrel, bats, giant-snowball, inferno-tower, miner, poison, prince, spear-goblins           \n",
       "523   baby-dragon, barbarian-barrel, electro-wizard, furnace, guards, lightning, mega-minion, royal-giant   \n",
       "1851  bandit, battle-ram, fireball, giant-snowball, ice-golem, minions, musketeer, prince                   \n",
       "\n",
       "      times  deck_id_int  \n",
       "1134  70     0            \n",
       "304   69     1            \n",
       "2311  66     2            \n",
       "523   65     3            \n",
       "1851  65     4            "
      ]
     },
     "execution_count": 8,
     "metadata": {},
     "output_type": "execute_result"
    }
   ],
   "source": [
    "Decks = pd.DataFrame({'deck':data_original['CardKeysRaw']})\n",
    "print(Decks.shape)\n",
    "Decks = Decks.groupby('deck').size().to_frame('times').reset_index().sort_values(by = 'times',ascending = False)\n",
    "print(Decks.shape)\n",
    "Decks['deck_id_int'] = [id for id in range(Decks.shape[0])]\n",
    "Decks.head()"
   ]
  },
  {
   "cell_type": "markdown",
   "metadata": {},
   "source": [
    "#### Delete redundant Decks "
   ]
  },
  {
   "cell_type": "code",
   "execution_count": 9,
   "metadata": {},
   "outputs": [
    {
     "data": {
      "text/html": [
       "<div>\n",
       "<style scoped>\n",
       "    .dataframe tbody tr th:only-of-type {\n",
       "        vertical-align: middle;\n",
       "    }\n",
       "\n",
       "    .dataframe tbody tr th {\n",
       "        vertical-align: top;\n",
       "    }\n",
       "\n",
       "    .dataframe thead th {\n",
       "        text-align: right;\n",
       "    }\n",
       "</style>\n",
       "<table border=\"1\" class=\"dataframe\">\n",
       "  <thead>\n",
       "    <tr style=\"text-align: right;\">\n",
       "      <th></th>\n",
       "      <th>Player</th>\n",
       "      <th>Tag</th>\n",
       "      <th>TeamId</th>\n",
       "      <th>Team</th>\n",
       "      <th>DeckId</th>\n",
       "      <th>Archetype</th>\n",
       "      <th>Usage</th>\n",
       "      <th>CardKeysRaw</th>\n",
       "      <th>Games</th>\n",
       "      <th>Losses</th>\n",
       "      <th>Wins</th>\n",
       "      <th>BattleTime</th>\n",
       "      <th>date</th>\n",
       "      <th>deck</th>\n",
       "      <th>times</th>\n",
       "      <th>deck_id_int</th>\n",
       "    </tr>\n",
       "  </thead>\n",
       "  <tbody>\n",
       "    <tr>\n",
       "      <th>0</th>\n",
       "      <td>MRS pablo98</td>\n",
       "      <td>QC9CY9JC</td>\n",
       "      <td>78</td>\n",
       "      <td>SLO - Movistar Riders</td>\n",
       "      <td>9242429</td>\n",
       "      <td>3Musk</td>\n",
       "      <td>Challenge</td>\n",
       "      <td>dark-prince, fireball, hunter, ice-golem, royal-hogs, skeletons, the-log, three-musketeers</td>\n",
       "      <td>24</td>\n",
       "      <td>7</td>\n",
       "      <td>16</td>\n",
       "      <td>2019-05-11 09:08:59.0000000</td>\n",
       "      <td>2019-05-11</td>\n",
       "      <td>dark-prince, fireball, hunter, ice-golem, royal-hogs, skeletons, the-log, three-musketeers</td>\n",
       "      <td>5</td>\n",
       "      <td>381</td>\n",
       "    </tr>\n",
       "    <tr>\n",
       "      <th>1</th>\n",
       "      <td>S2V RMDavid</td>\n",
       "      <td>Q8P8Q9</td>\n",
       "      <td>76</td>\n",
       "      <td>SLO - S2V eSports</td>\n",
       "      <td>9244593</td>\n",
       "      <td>3Musk</td>\n",
       "      <td>SameClan</td>\n",
       "      <td>dark-prince, fireball, hunter, ice-golem, royal-hogs, skeletons, the-log, three-musketeers</td>\n",
       "      <td>1</td>\n",
       "      <td>1</td>\n",
       "      <td>0</td>\n",
       "      <td>2019-05-09 20:21:47.0000000</td>\n",
       "      <td>2019-05-09</td>\n",
       "      <td>dark-prince, fireball, hunter, ice-golem, royal-hogs, skeletons, the-log, three-musketeers</td>\n",
       "      <td>5</td>\n",
       "      <td>381</td>\n",
       "    </tr>\n",
       "    <tr>\n",
       "      <th>2</th>\n",
       "      <td>Ruben10</td>\n",
       "      <td>288UCQPG</td>\n",
       "      <td>75</td>\n",
       "      <td>SLO - Team Heretics</td>\n",
       "      <td>9244290</td>\n",
       "      <td>3Musk</td>\n",
       "      <td>SameClan</td>\n",
       "      <td>dark-prince, fireball, hunter, ice-golem, royal-hogs, skeletons, the-log, three-musketeers</td>\n",
       "      <td>1</td>\n",
       "      <td>1</td>\n",
       "      <td>0</td>\n",
       "      <td>2019-05-09 17:24:52.0000000</td>\n",
       "      <td>2019-05-09</td>\n",
       "      <td>dark-prince, fireball, hunter, ice-golem, royal-hogs, skeletons, the-log, three-musketeers</td>\n",
       "      <td>5</td>\n",
       "      <td>381</td>\n",
       "    </tr>\n",
       "  </tbody>\n",
       "</table>\n",
       "</div>"
      ],
      "text/plain": [
       "        Player       Tag  TeamId                   Team   DeckId Archetype  \\\n",
       "0  MRS pablo98  QC9CY9JC  78      SLO - Movistar Riders  9242429  3Musk      \n",
       "1  S2V RMDavid  Q8P8Q9    76      SLO - S2V eSports      9244593  3Musk      \n",
       "2  Ruben10      288UCQPG  75      SLO - Team Heretics    9244290  3Musk      \n",
       "\n",
       "       Usage  \\\n",
       "0  Challenge   \n",
       "1  SameClan    \n",
       "2  SameClan    \n",
       "\n",
       "                                                                                  CardKeysRaw  \\\n",
       "0  dark-prince, fireball, hunter, ice-golem, royal-hogs, skeletons, the-log, three-musketeers   \n",
       "1  dark-prince, fireball, hunter, ice-golem, royal-hogs, skeletons, the-log, three-musketeers   \n",
       "2  dark-prince, fireball, hunter, ice-golem, royal-hogs, skeletons, the-log, three-musketeers   \n",
       "\n",
       "   Games  Losses  Wins                   BattleTime        date  \\\n",
       "0  24     7       16    2019-05-11 09:08:59.0000000  2019-05-11   \n",
       "1  1      1       0     2019-05-09 20:21:47.0000000  2019-05-09   \n",
       "2  1      1       0     2019-05-09 17:24:52.0000000  2019-05-09   \n",
       "\n",
       "                                                                                         deck  \\\n",
       "0  dark-prince, fireball, hunter, ice-golem, royal-hogs, skeletons, the-log, three-musketeers   \n",
       "1  dark-prince, fireball, hunter, ice-golem, royal-hogs, skeletons, the-log, three-musketeers   \n",
       "2  dark-prince, fireball, hunter, ice-golem, royal-hogs, skeletons, the-log, three-musketeers   \n",
       "\n",
       "   times  deck_id_int  \n",
       "0  5      381          \n",
       "1  5      381          \n",
       "2  5      381          "
      ]
     },
     "execution_count": 9,
     "metadata": {},
     "output_type": "execute_result"
    }
   ],
   "source": [
    "data_original = pd.merge(data_original, Decks, how = 'inner', left_on = 'CardKeysRaw', right_on = 'deck')\n",
    "data_original.head(3)"
   ]
  },
  {
   "cell_type": "code",
   "execution_count": 10,
   "metadata": {},
   "outputs": [],
   "source": [
    "indexNames = data_original[(data_original.Games == 1) & (data_original.times == 1)].index"
   ]
  },
  {
   "cell_type": "code",
   "execution_count": 11,
   "metadata": {},
   "outputs": [
    {
     "data": {
      "text/plain": [
       "(9611, 16)"
      ]
     },
     "execution_count": 11,
     "metadata": {},
     "output_type": "execute_result"
    }
   ],
   "source": [
    "data_original.drop(axis = 0, index = indexNames, inplace = True)\n",
    "data_original = data_original.reset_index(drop = True)\n",
    "data_original.shape"
   ]
  },
  {
   "cell_type": "markdown",
   "metadata": {},
   "source": [
    "### Data preparation"
   ]
  },
  {
   "cell_type": "code",
   "execution_count": 12,
   "metadata": {},
   "outputs": [
    {
     "name": "stdout",
     "output_type": "stream",
     "text": [
      "We have 76 unique Players 12 unique Teams 2363 unique Decks 23 unique Archetypes and 4 types of usages\n"
     ]
    }
   ],
   "source": [
    "player_unique = data_original.Tag.unique()\n",
    "teams_unique = data_original.TeamId.unique()\n",
    "deck_unique = data_original.deck_id_int.unique()\n",
    "archetype_unique = data_original.Archetype.unique()\n",
    "usage_unique = data_original.Usage.unique()\n",
    "\n",
    "print (f'We have {len(player_unique)} unique Players {len(teams_unique)} unique Teams'+\\\n",
    "       f' {len(deck_unique) } unique Decks {len(archetype_unique)} unique Archetypes and {len(usage_unique)} types of usages')"
   ]
  },
  {
   "cell_type": "code",
   "execution_count": 13,
   "metadata": {},
   "outputs": [],
   "source": [
    "players_map = {i:val for i,val in enumerate(player_unique)}\n",
    "players_map_inv = {val:i for i,val in enumerate(player_unique)}\n",
    "\n",
    "teams_map = {i:val for i,val in enumerate(teams_unique)}\n",
    "teams_map_inv = {val:i for i,val in enumerate(teams_unique)}\n",
    "\n",
    "decks_map = {i:val for i,val in enumerate(deck_unique)}\n",
    "decks_map_inv = {val:i for i,val in enumerate(deck_unique)}\n",
    "\n",
    "archetypes_map = {i:val for i,val in enumerate(archetype_unique)}\n",
    "archetypes_map_inv = {val:i for i,val in enumerate(archetype_unique)}\n",
    "\n",
    "usages_map = {i:val for i,val in enumerate(usage_unique)}\n",
    "usages_map_inv = {val:i for i,val in enumerate(usage_unique)}"
   ]
  },
  {
   "cell_type": "code",
   "execution_count": 18,
   "metadata": {},
   "outputs": [
    {
     "name": "stdout",
     "output_type": "stream",
     "text": [
      "(9611, 11)\n"
     ]
    },
    {
     "data": {
      "text/html": [
       "<div>\n",
       "<style scoped>\n",
       "    .dataframe tbody tr th:only-of-type {\n",
       "        vertical-align: middle;\n",
       "    }\n",
       "\n",
       "    .dataframe tbody tr th {\n",
       "        vertical-align: top;\n",
       "    }\n",
       "\n",
       "    .dataframe thead th {\n",
       "        text-align: right;\n",
       "    }\n",
       "</style>\n",
       "<table border=\"1\" class=\"dataframe\">\n",
       "  <thead>\n",
       "    <tr style=\"text-align: right;\">\n",
       "      <th></th>\n",
       "      <th>Player</th>\n",
       "      <th>Tag</th>\n",
       "      <th>TeamId</th>\n",
       "      <th>DeckId</th>\n",
       "      <th>Archetype</th>\n",
       "      <th>Usage</th>\n",
       "      <th>Games</th>\n",
       "      <th>Wins</th>\n",
       "      <th>Losses</th>\n",
       "      <th>CardKeysRaw</th>\n",
       "      <th>deck_id_int</th>\n",
       "    </tr>\n",
       "  </thead>\n",
       "  <tbody>\n",
       "    <tr>\n",
       "      <th>0</th>\n",
       "      <td>MRS pablo98</td>\n",
       "      <td>0</td>\n",
       "      <td>0</td>\n",
       "      <td>9242429</td>\n",
       "      <td>0</td>\n",
       "      <td>0</td>\n",
       "      <td>24</td>\n",
       "      <td>16</td>\n",
       "      <td>7</td>\n",
       "      <td>darkprince, fireball, hunter, icegolem, royalhogs, skeletons, thelog, threemusketeers</td>\n",
       "      <td>0</td>\n",
       "    </tr>\n",
       "    <tr>\n",
       "      <th>1</th>\n",
       "      <td>S2V RMDavid</td>\n",
       "      <td>1</td>\n",
       "      <td>1</td>\n",
       "      <td>9244593</td>\n",
       "      <td>0</td>\n",
       "      <td>1</td>\n",
       "      <td>1</td>\n",
       "      <td>0</td>\n",
       "      <td>1</td>\n",
       "      <td>darkprince, fireball, hunter, icegolem, royalhogs, skeletons, thelog, threemusketeers</td>\n",
       "      <td>0</td>\n",
       "    </tr>\n",
       "    <tr>\n",
       "      <th>2</th>\n",
       "      <td>Ruben10</td>\n",
       "      <td>2</td>\n",
       "      <td>2</td>\n",
       "      <td>9244290</td>\n",
       "      <td>0</td>\n",
       "      <td>1</td>\n",
       "      <td>1</td>\n",
       "      <td>0</td>\n",
       "      <td>1</td>\n",
       "      <td>darkprince, fireball, hunter, icegolem, royalhogs, skeletons, thelog, threemusketeers</td>\n",
       "      <td>0</td>\n",
       "    </tr>\n",
       "    <tr>\n",
       "      <th>3</th>\n",
       "      <td>SaintBelikin</td>\n",
       "      <td>3</td>\n",
       "      <td>1</td>\n",
       "      <td>9243027</td>\n",
       "      <td>0</td>\n",
       "      <td>1</td>\n",
       "      <td>1</td>\n",
       "      <td>0</td>\n",
       "      <td>1</td>\n",
       "      <td>darkprince, fireball, hunter, icegolem, royalhogs, skeletons, thelog, threemusketeers</td>\n",
       "      <td>0</td>\n",
       "    </tr>\n",
       "    <tr>\n",
       "      <th>4</th>\n",
       "      <td>Staze</td>\n",
       "      <td>4</td>\n",
       "      <td>3</td>\n",
       "      <td>9242963</td>\n",
       "      <td>0</td>\n",
       "      <td>2</td>\n",
       "      <td>2</td>\n",
       "      <td>2</td>\n",
       "      <td>0</td>\n",
       "      <td>darkprince, fireball, hunter, icegolem, royalhogs, skeletons, thelog, threemusketeers</td>\n",
       "      <td>0</td>\n",
       "    </tr>\n",
       "  </tbody>\n",
       "</table>\n",
       "</div>"
      ],
      "text/plain": [
       "         Player  Tag  TeamId   DeckId  Archetype  Usage  Games  Wins  Losses  \\\n",
       "0  MRS pablo98   0    0       9242429  0          0      24     16    7        \n",
       "1  S2V RMDavid   1    1       9244593  0          1      1      0     1        \n",
       "2  Ruben10       2    2       9244290  0          1      1      0     1        \n",
       "3  SaintBelikin  3    1       9243027  0          1      1      0     1        \n",
       "4  Staze         4    3       9242963  0          2      2      2     0        \n",
       "\n",
       "                                                                             CardKeysRaw  \\\n",
       "0  darkprince, fireball, hunter, icegolem, royalhogs, skeletons, thelog, threemusketeers   \n",
       "1  darkprince, fireball, hunter, icegolem, royalhogs, skeletons, thelog, threemusketeers   \n",
       "2  darkprince, fireball, hunter, icegolem, royalhogs, skeletons, thelog, threemusketeers   \n",
       "3  darkprince, fireball, hunter, icegolem, royalhogs, skeletons, thelog, threemusketeers   \n",
       "4  darkprince, fireball, hunter, icegolem, royalhogs, skeletons, thelog, threemusketeers   \n",
       "\n",
       "   deck_id_int  \n",
       "0  0            \n",
       "1  0            \n",
       "2  0            \n",
       "3  0            \n",
       "4  0            "
      ]
     },
     "execution_count": 18,
     "metadata": {},
     "output_type": "execute_result"
    }
   ],
   "source": [
    "my_cols  = ['Player', 'Tag', 'TeamId', 'DeckId', 'Archetype', 'Usage', 'Games', 'Wins', 'Losses', 'CardKeysRaw']\n",
    "data_feed = data_original[my_cols].copy()\n",
    "\n",
    "data_feed['Tag'] = data_original['Tag'].map(players_map_inv)\n",
    "data_feed['TeamId'] = data_original['TeamId'].map(teams_map_inv)\n",
    "data_feed['deck_id_int'] = data_original['deck_id_int'].map(decks_map_inv)\n",
    "data_feed['Archetype'] = data_original['Archetype'].map(archetypes_map_inv)\n",
    "data_feed['Usage'] = data_original['Usage'].map(usages_map_inv)\n",
    "print(data_feed.shape)\n",
    "data_feed.head()"
   ]
  },
  {
   "cell_type": "code",
   "execution_count": 19,
   "metadata": {},
   "outputs": [
    {
     "data": {
      "text/plain": [
       "<matplotlib.axes._subplots.AxesSubplot at 0x24bda1716a0>"
      ]
     },
     "execution_count": 19,
     "metadata": {},
     "output_type": "execute_result"
    },
    {
     "data": {
      "image/png": "[encoded data removed]",
      "text/plain": [
       "<Figure size 432x288 with 1 Axes>"
      ]
     },
     "metadata": {
      "needs_background": "light"
     },
     "output_type": "display_data"
    }
   ],
   "source": [
    "sns.distplot(data_feed['Games'], bins = 7)"
   ]
  },
  {
   "cell_type": "markdown",
   "metadata": {},
   "source": [
    "## Mapping Cards"
   ]
  },
  {
   "cell_type": "code",
   "execution_count": 20,
   "metadata": {},
   "outputs": [],
   "source": [
    "data_original['CardKeysRaw'] = data_original['CardKeysRaw'].str.replace('-', '')"
   ]
  },
  {
   "cell_type": "code",
   "execution_count": 22,
   "metadata": {},
   "outputs": [
    {
     "name": "stdout",
     "output_type": "stream",
     "text": [
      "Found 92 unique tokens.\n",
      "There are 9611 sequences\n"
     ]
    }
   ],
   "source": [
    "MAX_NB_CARDS = 200 #decided by cumsum wordcount plot (Script 01)\n",
    "MAX_SEQUENCE_LENGTH = 8 #decided by max words in a product (Script 00)\n",
    "EMBEDDING_DIM = 8 #Same dim as our W2V embedding\n",
    "\n",
    "all_cards = data_feed['CardKeysRaw']\n",
    "all_cards = all_cards.drop_duplicates (keep = False)\n",
    "\n",
    "tokenizer = Tokenizer(num_words=MAX_NB_CARDS)\n",
    "tokenizer.fit_on_texts(all_cards)\n",
    "\n",
    "data_sequences = tokenizer.texts_to_sequences(data_original['CardKeysRaw'])\n",
    "#data_matrix = tokenizer.\n",
    "X = pad_sequences(data_sequences, maxlen=MAX_SEQUENCE_LENGTH)\n",
    "\n",
    "word_index = tokenizer.word_index\n",
    "index_word = dict(map(reversed, tokenizer.word_index.items()))\n",
    "y = np.array(data_feed['deck_id_int']) \n",
    "\n",
    "print('Found %s unique tokens.' % len(word_index))\n",
    "print (f'There are {len(X)} sequences')\n",
    "#print(word_index)\n",
    "#print(data_vec[0])\n",
    "#print(data_original['CardKeysRaw'].loc[0])"
   ]
  },
  {
   "cell_type": "code",
   "execution_count": 23,
   "metadata": {},
   "outputs": [
    {
     "name": "stdout",
     "output_type": "stream",
     "text": [
      "[[33  6 43 10 41 17 15 75]\n",
      " [11 30 33  6  1 10 32 19]]\n",
      "[0 1]\n"
     ]
    }
   ],
   "source": [
    "print(X[4:6])\n",
    "print(y[4:6])"
   ]
  },
  {
   "cell_type": "code",
   "execution_count": 24,
   "metadata": {},
   "outputs": [
    {
     "name": "stdout",
     "output_type": "stream",
     "text": [
      "0\n",
      "Features: darkprince-fireball-hunter-icegolem-royalhogs-skeletons-thelog-threemusketeers\n",
      "Label: 0\n",
      "\n",
      "1\n",
      "Features: bandit-battleram-darkprince-fireball-giantsnowball-icegolem-infernodragon-minions\n",
      "Label: 1\n",
      "\n"
     ]
    }
   ],
   "source": [
    "for i, seq in enumerate(X[4:6]):\n",
    "    print(i)\n",
    "    my_cards = []\n",
    "    for idx in seq:\n",
    "        my_cards.append(index_word[idx])\n",
    "        \n",
    "    print('Features: ' + '-'.join(my_cards))\n",
    "    print('Label: ' + str(y[i+4]) + '\\n')    "
   ]
  },
  {
   "cell_type": "code",
   "execution_count": 25,
   "metadata": {},
   "outputs": [],
   "source": [
    "data_feed['Winrate'] = data_feed.Wins / data_feed.Games"
   ]
  },
  {
   "cell_type": "code",
   "execution_count": 37,
   "metadata": {},
   "outputs": [],
   "source": [
    "def split_train_valid(x, y, rate):\n",
    "    idx = int(x.shape[0] * rate)\n",
    "    return x[idx:], y[idx:], x[:idx], y[:idx]\n",
    "              \n",
    "X_train, y_train, X_valid, y_valid = split_train_valid(X, y, rate = 0.1)"
   ]
  },
  {
   "cell_type": "code",
   "execution_count": 38,
   "metadata": {},
   "outputs": [
    {
     "name": "stdout",
     "output_type": "stream",
     "text": [
      "(9611, 8)\n",
      "(8650, 8)\n",
      "(961, 8)\n"
     ]
    }
   ],
   "source": [
    "print(X.shape)\n",
    "print(X_train.shape)\n",
    "print(X_valid.shape)"
   ]
  },
  {
   "cell_type": "markdown",
   "metadata": {},
   "source": [
    "## Model architecture"
   ]
  },
  {
   "cell_type": "markdown",
   "metadata": {},
   "source": [
    "### Output"
   ]
  },
  {
   "cell_type": "code",
   "execution_count": 39,
   "metadata": {},
   "outputs": [
    {
     "name": "stdout",
     "output_type": "stream",
     "text": [
      "[[0. 0. 0. ... 0. 0. 0.]\n",
      " [0. 0. 0. ... 0. 0. 0.]\n",
      " [0. 0. 0. ... 0. 0. 0.]\n",
      " ...\n",
      " [0. 0. 0. ... 1. 0. 0.]\n",
      " [0. 0. 0. ... 0. 1. 0.]\n",
      " [0. 0. 0. ... 0. 0. 1.]]\n",
      "(8650, 2363)\n"
     ]
    }
   ],
   "source": [
    "CAT_DECKS = len(deck_unique)\n",
    "decks_encoded_train = to_categorical(y_train, num_classes = CAT_DECKS)\n",
    "decks_encoded_valid = to_categorical(y_valid, num_classes = CAT_DECKS)\n",
    "#cards_encoded = to_categorical(word_inde, num_classes=len(word_index))\n",
    "print(decks_encoded_train)\n",
    "print(decks_encoded_train.shape)"
   ]
  },
  {
   "cell_type": "code",
   "execution_count": 40,
   "metadata": {},
   "outputs": [
    {
     "data": {
      "text/html": [
       "<div>\n",
       "<style scoped>\n",
       "    .dataframe tbody tr th:only-of-type {\n",
       "        vertical-align: middle;\n",
       "    }\n",
       "\n",
       "    .dataframe tbody tr th {\n",
       "        vertical-align: top;\n",
       "    }\n",
       "\n",
       "    .dataframe thead th {\n",
       "        text-align: right;\n",
       "    }\n",
       "</style>\n",
       "<table border=\"1\" class=\"dataframe\">\n",
       "  <thead>\n",
       "    <tr style=\"text-align: right;\">\n",
       "      <th></th>\n",
       "      <th>Player</th>\n",
       "      <th>Tag</th>\n",
       "      <th>TeamId</th>\n",
       "      <th>DeckId</th>\n",
       "      <th>Archetype</th>\n",
       "      <th>Usage</th>\n",
       "      <th>Games</th>\n",
       "      <th>Wins</th>\n",
       "      <th>Losses</th>\n",
       "      <th>CardKeysRaw</th>\n",
       "      <th>deck_id_int</th>\n",
       "      <th>Winrate</th>\n",
       "    </tr>\n",
       "  </thead>\n",
       "  <tbody>\n",
       "    <tr>\n",
       "      <th>0</th>\n",
       "      <td>MRS pablo98</td>\n",
       "      <td>0</td>\n",
       "      <td>0</td>\n",
       "      <td>9242429</td>\n",
       "      <td>0</td>\n",
       "      <td>0</td>\n",
       "      <td>24</td>\n",
       "      <td>16</td>\n",
       "      <td>7</td>\n",
       "      <td>darkprince, fireball, hunter, icegolem, royalhogs, skeletons, thelog, threemusketeers</td>\n",
       "      <td>0</td>\n",
       "      <td>0.666667</td>\n",
       "    </tr>\n",
       "    <tr>\n",
       "      <th>1</th>\n",
       "      <td>S2V RMDavid</td>\n",
       "      <td>1</td>\n",
       "      <td>1</td>\n",
       "      <td>9244593</td>\n",
       "      <td>0</td>\n",
       "      <td>1</td>\n",
       "      <td>1</td>\n",
       "      <td>0</td>\n",
       "      <td>1</td>\n",
       "      <td>darkprince, fireball, hunter, icegolem, royalhogs, skeletons, thelog, threemusketeers</td>\n",
       "      <td>0</td>\n",
       "      <td>0.000000</td>\n",
       "    </tr>\n",
       "    <tr>\n",
       "      <th>2</th>\n",
       "      <td>Ruben10</td>\n",
       "      <td>2</td>\n",
       "      <td>2</td>\n",
       "      <td>9244290</td>\n",
       "      <td>0</td>\n",
       "      <td>1</td>\n",
       "      <td>1</td>\n",
       "      <td>0</td>\n",
       "      <td>1</td>\n",
       "      <td>darkprince, fireball, hunter, icegolem, royalhogs, skeletons, thelog, threemusketeers</td>\n",
       "      <td>0</td>\n",
       "      <td>0.000000</td>\n",
       "    </tr>\n",
       "    <tr>\n",
       "      <th>3</th>\n",
       "      <td>SaintBelikin</td>\n",
       "      <td>3</td>\n",
       "      <td>1</td>\n",
       "      <td>9243027</td>\n",
       "      <td>0</td>\n",
       "      <td>1</td>\n",
       "      <td>1</td>\n",
       "      <td>0</td>\n",
       "      <td>1</td>\n",
       "      <td>darkprince, fireball, hunter, icegolem, royalhogs, skeletons, thelog, threemusketeers</td>\n",
       "      <td>0</td>\n",
       "      <td>0.000000</td>\n",
       "    </tr>\n",
       "    <tr>\n",
       "      <th>4</th>\n",
       "      <td>Staze</td>\n",
       "      <td>4</td>\n",
       "      <td>3</td>\n",
       "      <td>9242963</td>\n",
       "      <td>0</td>\n",
       "      <td>2</td>\n",
       "      <td>2</td>\n",
       "      <td>2</td>\n",
       "      <td>0</td>\n",
       "      <td>darkprince, fireball, hunter, icegolem, royalhogs, skeletons, thelog, threemusketeers</td>\n",
       "      <td>0</td>\n",
       "      <td>1.000000</td>\n",
       "    </tr>\n",
       "  </tbody>\n",
       "</table>\n",
       "</div>"
      ],
      "text/plain": [
       "         Player  Tag  TeamId   DeckId  Archetype  Usage  Games  Wins  Losses  \\\n",
       "0  MRS pablo98   0    0       9242429  0          0      24     16    7        \n",
       "1  S2V RMDavid   1    1       9244593  0          1      1      0     1        \n",
       "2  Ruben10       2    2       9244290  0          1      1      0     1        \n",
       "3  SaintBelikin  3    1       9243027  0          1      1      0     1        \n",
       "4  Staze         4    3       9242963  0          2      2      2     0        \n",
       "\n",
       "                                                                             CardKeysRaw  \\\n",
       "0  darkprince, fireball, hunter, icegolem, royalhogs, skeletons, thelog, threemusketeers   \n",
       "1  darkprince, fireball, hunter, icegolem, royalhogs, skeletons, thelog, threemusketeers   \n",
       "2  darkprince, fireball, hunter, icegolem, royalhogs, skeletons, thelog, threemusketeers   \n",
       "3  darkprince, fireball, hunter, icegolem, royalhogs, skeletons, thelog, threemusketeers   \n",
       "4  darkprince, fireball, hunter, icegolem, royalhogs, skeletons, thelog, threemusketeers   \n",
       "\n",
       "   deck_id_int   Winrate  \n",
       "0  0            0.666667  \n",
       "1  0            0.000000  \n",
       "2  0            0.000000  \n",
       "3  0            0.000000  \n",
       "4  0            1.000000  "
      ]
     },
     "execution_count": 40,
     "metadata": {},
     "output_type": "execute_result"
    }
   ],
   "source": [
    "data_feed.head()"
   ]
  },
  {
   "cell_type": "code",
   "execution_count": 41,
   "metadata": {},
   "outputs": [],
   "source": [
    "def get_model_Seq():\n",
    "    model = Sequential()\n",
    "\n",
    "    # Embedding layer\n",
    "    model.add(Embedding(input_dim=len(word_index) + 1,\n",
    "                    output_dim=30,\n",
    "                    weights=None,\n",
    "                    trainable=True), name = 'Cards')\n",
    "\n",
    "    # Recurrent layer\n",
    "    model.add(LSTM(64, return_sequences=False, dropout=0.2, recurrent_dropout=0.1))\n",
    "\n",
    "    # Fully connected layer\n",
    "    model.add(Dense(64, activation = 'relu'))\n",
    "\n",
    "    # Dropout for regularization\n",
    "    model.add(Dropout(0.5))\n",
    "    \n",
    "    model.add(Dense(32, activation = 'relu'))\n",
    "    \n",
    "    model.add(Dropout(0.4))\n",
    "\n",
    "    # Output layer\n",
    "    model.add(Dense(CAT_DECKS, activation='softmax'))\n",
    "\n",
    "    # Compile the model\n",
    "    model.compile(\n",
    "        optimizer='adam', loss='categorical_crossentropy', metrics=['accuracy'])\n",
    "\n",
    "    model.summary()\n",
    "    \n",
    "    return model"
   ]
  },
  {
   "cell_type": "code",
   "execution_count": 42,
   "metadata": {},
   "outputs": [],
   "source": [
    "def get_model_classifier(CAT_DECKS):\n",
    "    player_input = Input(shape=[1], name='player')\n",
    "    team_input = Input(shape=[1], name='team')\n",
    "    archetype_input = Input(shape = [1], name = 'archetype')\n",
    "    usage_input = Input(shape = [1], name = 'usage')\n",
    "    games_input = Input(shape = [1], name = 'games')\n",
    "    wins_input = Input(shape = [1], name = 'wins')\n",
    "    losses_input = Input(shape = [1], name = 'losses')\n",
    "    deck_input = Input(shape = [1], name = 'deck')\n",
    "    cards_input = Input(shape = [MAX_SEQUENCE_LENGTH], name = 'cards')\n",
    "\n",
    "    embedding_size = 10\n",
    "    deck_embedding_size = 30\n",
    "\n",
    "    player_embedding = Embedding(output_dim=embedding_size, input_dim = player_unique.shape[0],\n",
    "                               input_length=1, name='player_embedding')(player_input)\n",
    "    team_embedding = Embedding(output_dim=embedding_size, input_dim = teams_unique.shape[0],\n",
    "                               input_length=1, name='team_embedding')(team_input)\n",
    "    archetype_embedding = Embedding(output_dim=embedding_size, input_dim = archetype_unique.shape[0],\n",
    "                               input_length=1, name='archetype_embedding')(archetype_input)\n",
    "    usage_embedding = Embedding(output_dim=embedding_size, input_dim = usage_unique.shape[0],\n",
    "                               input_length=1, name='usage_embedding')(usage_input)\n",
    "    deck_embedding = Embedding(output_dim=deck_embedding_size, input_dim = deck_unique.shape[0],\n",
    "                               input_length=1, name='deck_embedding')(deck_input)\n",
    "    cards_embedding = Embedding(output_dim=embedding_size, input_dim = len(word_index.keys())+1,\n",
    "                                name='cards_embedding')(cards_input)\n",
    "\n",
    "\n",
    "    player_vecs = Reshape([embedding_size])(player_embedding)\n",
    "    team_vecs = Reshape([embedding_size])(team_embedding)\n",
    "    arch_vecs = Reshape([embedding_size])(archetype_embedding)\n",
    "    usage_vecs = Reshape([embedding_size])(usage_embedding)\n",
    "    #deck_vecs = Reshape([deck_embedding_size])(deck_embedding)\n",
    "    deck_vecs = LSTM(30, return_sequences = False)(deck_embedding)\n",
    "    cards_vecs = Flatten()(cards_embedding)\n",
    "\n",
    "    x1 = concatenate([player_vecs, team_vecs, arch_vecs, usage_vecs, deck_vecs,\n",
    "                     wins_input, losses_input, games_input, cards_vecs], name = 'VECTOR_INTERACCION')\n",
    "    #############################################\n",
    "    x2 = Dropout(0.4)(x1)\n",
    "    x3 = Dense (64, activation = 'relu')(x2)\n",
    "    x4 = Dropout(0.3)(x3)\n",
    "    x5 = Dense (32, activation = 'relu')(x4)\n",
    "    x6 = Dropout(0.3)(x5)\n",
    "    ############################################\n",
    "    output = Dense(CAT_DECKS, activation = 'softmax', name = 'DECKS')(x6)\n",
    "    reg1 = Dense(32, activation = 'relu')(x1)\n",
    "    outreg = Dense(1, activation = 'sigmoid', name = 'WINRATE')(reg1)\n",
    "    ############################################\n",
    "    \n",
    "    model = Model(inputs=[player_input, team_input, archetype_input, usage_input, games_input, wins_input,\n",
    "                         losses_input, deck_input, cards_input] , \n",
    "                  outputs = [output, outreg])\n",
    "\n",
    "    model.compile(loss = ['categorical_crossentropy', 'binary_crossentropy'],\n",
    "                  optimizer = 'rmsprop',\n",
    "                  metrics = ['acc'])\n",
    "\n",
    "    model.summary()\n",
    "    \n",
    "    return model"
   ]
  },
  {
   "cell_type": "code",
   "execution_count": 43,
   "metadata": {},
   "outputs": [
    {
     "data": {
      "text/plain": [
       "Index(['Player', 'Tag', 'TeamId', 'DeckId', 'Archetype', 'Usage', 'Games',\n",
       "       'Wins', 'Losses', 'CardKeysRaw', 'deck_id_int', 'Winrate'],\n",
       "      dtype='object')"
      ]
     },
     "execution_count": 43,
     "metadata": {},
     "output_type": "execute_result"
    }
   ],
   "source": [
    "data_feed.columns"
   ]
  },
  {
   "cell_type": "code",
   "execution_count": 51,
   "metadata": {
    "scrolled": true
   },
   "outputs": [
    {
     "name": "stdout",
     "output_type": "stream",
     "text": [
      "_________________________________________________________________\n",
      "Layer (type)                 Output Shape              Param #   \n",
      "=================================================================\n",
      "embedding_9 (Embedding)      (None, None, 30)          2790      \n",
      "_________________________________________________________________\n",
      "lstm_9 (LSTM)                (None, 64)                24320     \n",
      "_________________________________________________________________\n",
      "dense_25 (Dense)             (None, 64)                4160      \n",
      "_________________________________________________________________\n",
      "dropout_17 (Dropout)         (None, 64)                0         \n",
      "_________________________________________________________________\n",
      "dense_26 (Dense)             (None, 32)                2080      \n",
      "_________________________________________________________________\n",
      "dropout_18 (Dropout)         (None, 32)                0         \n",
      "_________________________________________________________________\n",
      "dense_27 (Dense)             (None, 2363)              77979     \n",
      "=================================================================\n",
      "Total params: 111,329\n",
      "Trainable params: 111,329\n",
      "Non-trainable params: 0\n",
      "_________________________________________________________________\n",
      "Train on 8650 samples, validate on 961 samples\n",
      "Epoch 1/60\n",
      "8650/8650 [==============================] - 6s 690us/step - loss: 7.4635 - acc: 0.0067 - val_loss: 8.9079 - val_acc: 0.0000e+00\n",
      "Epoch 2/60\n",
      "8650/8650 [==============================] - 3s 360us/step - loss: 7.0540 - acc: 0.0066 - val_loss: 9.3364 - val_acc: 0.0000e+00\n",
      "Epoch 3/60\n",
      "8650/8650 [==============================] - 3s 377us/step - loss: 6.9743 - acc: 0.0073 - val_loss: 9.9671 - val_acc: 0.0000e+00\n",
      "Epoch 4/60\n",
      "8650/8650 [==============================] - 3s 357us/step - loss: 6.9137 - acc: 0.0080 - val_loss: 10.4546 - val_acc: 0.0000e+00\n",
      "Epoch 5/60\n",
      "8650/8650 [==============================] - 3s 373us/step - loss: 6.8219 - acc: 0.0105 - val_loss: 10.8886 - val_acc: 0.0000e+00\n",
      "Epoch 6/60\n",
      "8650/8650 [==============================] - 4s 431us/step - loss: 6.7228 - acc: 0.0163 - val_loss: 11.5173 - val_acc: 0.0000e+00\n",
      "Epoch 7/60\n",
      "8650/8650 [==============================] - 3s 359us/step - loss: 6.5886 - acc: 0.0202 - val_loss: 11.8150 - val_acc: 0.0000e+00\n",
      "Epoch 8/60\n",
      "8650/8650 [==============================] - 3s 355us/step - loss: 6.4468 - acc: 0.0286 - val_loss: 12.4924 - val_acc: 0.0000e+00\n",
      "Epoch 9/60\n",
      "8650/8650 [==============================] - 3s 362us/step - loss: 6.2882 - acc: 0.0418 - val_loss: 12.7735 - val_acc: 0.0000e+00\n",
      "Epoch 10/60\n",
      "8650/8650 [==============================] - 3s 356us/step - loss: 6.1229 - acc: 0.0513 - val_loss: 13.6649 - val_acc: 0.0000e+00\n",
      "Epoch 11/60\n",
      "8650/8650 [==============================] - 3s 400us/step - loss: 5.9603 - acc: 0.0582 - val_loss: 13.8789 - val_acc: 0.0000e+00\n",
      "Epoch 12/60\n",
      "8650/8650 [==============================] - 3s 357us/step - loss: 5.8155 - acc: 0.0698 - val_loss: 13.8801 - val_acc: 0.0000e+00\n",
      "Epoch 13/60\n",
      "8650/8650 [==============================] - 3s 366us/step - loss: 5.6916 - acc: 0.0746 - val_loss: 14.1345 - val_acc: 0.0031\n",
      "Epoch 14/60\n",
      "8650/8650 [==============================] - 3s 383us/step - loss: 5.5374 - acc: 0.0902 - val_loss: 14.1963 - val_acc: 0.0031\n",
      "Epoch 15/60\n",
      "8650/8650 [==============================] - 3s 356us/step - loss: 5.4372 - acc: 0.0968 - val_loss: 14.3307 - val_acc: 0.0031\n",
      "Epoch 16/60\n",
      "8650/8650 [==============================] - 3s 390us/step - loss: 5.3328 - acc: 0.1042 - val_loss: 14.4680 - val_acc: 0.0031\n",
      "Epoch 17/60\n",
      "8650/8650 [==============================] - 3s 354us/step - loss: 5.1903 - acc: 0.1118 - val_loss: 14.9349 - val_acc: 0.0031\n",
      "Epoch 18/60\n",
      "8650/8650 [==============================] - 3s 379us/step - loss: 5.1119 - acc: 0.1161 - val_loss: 14.3942 - val_acc: 0.0031\n",
      "Epoch 19/60\n",
      "8650/8650 [==============================] - 4s 432us/step - loss: 5.0184 - acc: 0.1234 - val_loss: 14.8534 - val_acc: 0.0031\n",
      "Epoch 20/60\n",
      "8650/8650 [==============================] - 5s 557us/step - loss: 4.9257 - acc: 0.1332 - val_loss: 14.6997 - val_acc: 0.0031\n",
      "Epoch 21/60\n",
      "8650/8650 [==============================] - 5s 541us/step - loss: 4.8454 - acc: 0.1350 - val_loss: 15.1143 - val_acc: 0.0031\n",
      "Epoch 22/60\n",
      "8650/8650 [==============================] - 4s 486us/step - loss: 4.7705 - acc: 0.1432 - val_loss: 15.1222 - val_acc: 0.0031\n",
      "Epoch 23/60\n",
      "8650/8650 [==============================] - 4s 441us/step - loss: 4.6932 - acc: 0.1482 - val_loss: 15.2700 - val_acc: 0.0031\n",
      "Epoch 24/60\n",
      "8650/8650 [==============================] - 4s 439us/step - loss: 4.6260 - acc: 0.1590 - val_loss: 15.3178 - val_acc: 0.0031\n",
      "Epoch 25/60\n",
      "8650/8650 [==============================] - 4s 471us/step - loss: 4.5539 - acc: 0.1586 - val_loss: 15.4752 - val_acc: 0.0031\n",
      "Epoch 26/60\n",
      "8650/8650 [==============================] - 4s 490us/step - loss: 4.5051 - acc: 0.1635 - val_loss: 15.5609 - val_acc: 0.0031\n",
      "Epoch 27/60\n",
      "8650/8650 [==============================] - 4s 410us/step - loss: 4.4422 - acc: 0.1716 - val_loss: 15.5920 - val_acc: 0.0031\n",
      "Epoch 28/60\n",
      "8650/8650 [==============================] - 4s 411us/step - loss: 4.3716 - acc: 0.1754 - val_loss: 15.4802 - val_acc: 0.0031\n",
      "Epoch 29/60\n",
      "8650/8650 [==============================] - 3s 403us/step - loss: 4.3352 - acc: 0.1776 - val_loss: 15.6891 - val_acc: 0.0031\n",
      "Epoch 30/60\n",
      "8650/8650 [==============================] - 4s 405us/step - loss: 4.2823 - acc: 0.1835 - val_loss: 15.7439 - val_acc: 0.0031\n",
      "Epoch 31/60\n",
      "8650/8650 [==============================] - 4s 428us/step - loss: 4.2451 - acc: 0.1861 - val_loss: 15.7759 - val_acc: 0.0031\n",
      "Epoch 32/60\n",
      "8650/8650 [==============================] - 4s 429us/step - loss: 4.2039 - acc: 0.1877 - val_loss: 15.7241 - val_acc: 0.0031\n",
      "Epoch 33/60\n",
      "8650/8650 [==============================] - 4s 408us/step - loss: 4.1520 - acc: 0.1951 - val_loss: 15.8099 - val_acc: 0.0031\n",
      "Epoch 34/60\n",
      "8650/8650 [==============================] - 4s 405us/step - loss: 4.1035 - acc: 0.1889 - val_loss: 15.8112 - val_acc: 0.0031\n",
      "Epoch 35/60\n",
      "8650/8650 [==============================] - 3s 399us/step - loss: 4.0780 - acc: 0.1942 - val_loss: 15.7921 - val_acc: 0.0031\n",
      "Epoch 36/60\n",
      "8650/8650 [==============================] - 3s 395us/step - loss: 4.0333 - acc: 0.2035 - val_loss: 15.8649 - val_acc: 0.0031\n",
      "Epoch 37/60\n",
      "8650/8650 [==============================] - 3s 404us/step - loss: 3.9899 - acc: 0.2046 - val_loss: 15.8355 - val_acc: 0.0031\n",
      "Epoch 38/60\n",
      "8650/8650 [==============================] - 4s 406us/step - loss: 3.9687 - acc: 0.2165 - val_loss: 15.8449 - val_acc: 0.0031\n",
      "Epoch 39/60\n",
      "8650/8650 [==============================] - 3s 402us/step - loss: 3.9373 - acc: 0.2104 - val_loss: 15.9054 - val_acc: 0.0031\n",
      "Epoch 40/60\n",
      "8650/8650 [==============================] - 4s 426us/step - loss: 3.9256 - acc: 0.2176 - val_loss: 15.9565 - val_acc: 0.0031\n",
      "Epoch 41/60\n",
      "8650/8650 [==============================] - 4s 454us/step - loss: 3.8850 - acc: 0.2166 - val_loss: 15.9487 - val_acc: 0.0031\n",
      "Epoch 42/60\n",
      "8650/8650 [==============================] - 4s 432us/step - loss: 3.8490 - acc: 0.2166 - val_loss: 15.9791 - val_acc: 0.0031\n",
      "Epoch 43/60\n",
      "8650/8650 [==============================] - 4s 503us/step - loss: 3.8215 - acc: 0.2224 - val_loss: 16.0105 - val_acc: 0.0031\n",
      "Epoch 44/60\n",
      "8650/8650 [==============================] - 4s 426us/step - loss: 3.7983 - acc: 0.2266 - val_loss: 15.9160 - val_acc: 0.0031\n",
      "Epoch 45/60\n",
      "8650/8650 [==============================] - 4s 410us/step - loss: 3.7746 - acc: 0.2265 - val_loss: 15.9577 - val_acc: 0.0031\n",
      "Epoch 46/60\n",
      "8650/8650 [==============================] - 3s 388us/step - loss: 3.7302 - acc: 0.2296 - val_loss: 16.0242 - val_acc: 0.0031\n",
      "Epoch 47/60\n",
      "8650/8650 [==============================] - 3s 355us/step - loss: 3.7191 - acc: 0.2343 - val_loss: 16.0430 - val_acc: 0.0031\n",
      "Epoch 48/60\n",
      "8650/8650 [==============================] - 4s 417us/step - loss: 3.6966 - acc: 0.2325 - val_loss: 16.0336 - val_acc: 0.0031\n",
      "Epoch 49/60\n",
      "8650/8650 [==============================] - 3s 356us/step - loss: 3.6796 - acc: 0.2314 - val_loss: 16.0345 - val_acc: 0.0031\n",
      "Epoch 50/60\n"
     ]
    },
    {
     "name": "stdout",
     "output_type": "stream",
     "text": [
      "8650/8650 [==============================] - 3s 355us/step - loss: 3.6070 - acc: 0.2434 - val_loss: 15.9972 - val_acc: 0.0031\n",
      "Epoch 51/60\n",
      "8650/8650 [==============================] - 3s 359us/step - loss: 3.6362 - acc: 0.2394 - val_loss: 16.0405 - val_acc: 0.0031\n",
      "Epoch 52/60\n",
      "8650/8650 [==============================] - 3s 362us/step - loss: 3.6047 - acc: 0.2400 - val_loss: 16.0587 - val_acc: 0.0031\n",
      "Epoch 53/60\n",
      "8650/8650 [==============================] - 3s 371us/step - loss: 3.5977 - acc: 0.2427 - val_loss: 16.0515 - val_acc: 0.0031\n",
      "Epoch 54/60\n",
      "8650/8650 [==============================] - 4s 478us/step - loss: 3.5711 - acc: 0.2477 - val_loss: 16.0584 - val_acc: 0.0031\n",
      "Epoch 55/60\n",
      "8650/8650 [==============================] - 4s 417us/step - loss: 3.5277 - acc: 0.2558 - val_loss: 16.0621 - val_acc: 0.0031\n",
      "Epoch 56/60\n",
      "8650/8650 [==============================] - 4s 421us/step - loss: 3.5001 - acc: 0.2516 - val_loss: 16.0664 - val_acc: 0.0031\n",
      "Epoch 57/60\n",
      "8650/8650 [==============================] - 4s 439us/step - loss: 3.5121 - acc: 0.2554 - val_loss: 16.0674 - val_acc: 0.0031\n",
      "Epoch 58/60\n",
      "8650/8650 [==============================] - 3s 388us/step - loss: 3.4804 - acc: 0.2532 - val_loss: 16.0682 - val_acc: 0.0031\n",
      "Epoch 59/60\n",
      "8650/8650 [==============================] - 3s 387us/step - loss: 3.4909 - acc: 0.2638 - val_loss: 16.0683 - val_acc: 0.0031\n",
      "Epoch 60/60\n",
      "8650/8650 [==============================] - 3s 388us/step - loss: 3.4413 - acc: 0.2624 - val_loss: 16.0682 - val_acc: 0.0031\n"
     ]
    }
   ],
   "source": [
    "model = get_model_Seq()\n",
    "\n",
    "# Sequence\n",
    "\n",
    "#class_weights = {0: 1.0, 1: 2.0}\n",
    "\n",
    "history = model.fit(X_train,\n",
    "                    decks_encoded_train,\n",
    "                    validation_data = (X_valid, decks_encoded_valid), \n",
    "                    epochs = 60, class_weight = None,\n",
    "                    batch_size = 64, shuffle = True, verbose = 1)\n",
    "\n",
    "# Classifier\n",
    "#history = model.fit([data_feed['Tag'], data_feed['TeamId'], data_feed['Archetype'], data_feed['Usage'],\n",
    "#                    data_feed['Games'], data_feed['Wins'], data_feed['Losses'], data_feed['deck_id_int'], data_vec],\n",
    "#                    [decks_encoded, data_feed['Winrate']], \n",
    "#                    epochs = 4, validation_split = 0.1,\n",
    "#                    batch_size = 64, \n",
    "#                    shuffle = True)"
   ]
  },
  {
   "cell_type": "code",
   "execution_count": 52,
   "metadata": {},
   "outputs": [
    {
     "name": "stdout",
     "output_type": "stream",
     "text": [
      "961/961 [==============================] - 1s 661us/step\n"
     ]
    }
   ],
   "source": [
    "pred = model.predict(X_valid, verbose = 1)"
   ]
  },
  {
   "cell_type": "code",
   "execution_count": 55,
   "metadata": {},
   "outputs": [
    {
     "name": "stdout",
     "output_type": "stream",
     "text": [
      "(961, 2363)\n",
      "(2363,)\n"
     ]
    }
   ],
   "source": [
    "print(pred.shape)\n",
    "print(pred[0].shape)"
   ]
  },
  {
   "cell_type": "code",
   "execution_count": 53,
   "metadata": {},
   "outputs": [
    {
     "data": {
      "text/plain": [
       "array([ 831, 1454,  649, 1595,  449], dtype=int64)"
      ]
     },
     "execution_count": 53,
     "metadata": {},
     "output_type": "execute_result"
    }
   ],
   "source": [
    "pred[0].argsort()[-5:][::-1]"
   ]
  },
  {
   "cell_type": "code",
   "execution_count": 65,
   "metadata": {},
   "outputs": [
    {
     "data": {
      "text/plain": [
       "5"
      ]
     },
     "execution_count": 65,
     "metadata": {},
     "output_type": "execute_result"
    }
   ],
   "source": [
    "y_valid[103]"
   ]
  },
  {
   "cell_type": "code",
   "execution_count": null,
   "metadata": {},
   "outputs": [],
   "source": []
  }
 ],
 "metadata": {
  "kernelspec": {
   "display_name": "Python 3",
   "language": "python",
   "name": "python3"
  },
  "language_info": {
   "codemirror_mode": {
    "name": "ipython",
    "version": 3
   },
   "file_extension": ".py",
   "mimetype": "text/x-python",
   "name": "python",
   "nbconvert_exporter": "python",
   "pygments_lexer": "ipython3",
   "version": "3.6.8"
  }
 },
 "nbformat": 4,
 "nbformat_minor": 2
}

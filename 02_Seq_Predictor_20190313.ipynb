{
 "cells": [
  {
   "cell_type": "code",
   "execution_count": 1,
   "metadata": {},
   "outputs": [
    {
     "name": "stderr",
     "output_type": "stream",
     "text": [
      "Using TensorFlow backend.\n",
      "C:\\Users\\Enric\\Anaconda3\\lib\\site-packages\\gensim\\utils.py:1197: UserWarning: detected Windows; aliasing chunkize to chunkize_serial\n",
      "  warnings.warn(\"detected Windows; aliasing chunkize to chunkize_serial\")\n"
     ]
    }
   ],
   "source": [
    "import keras\n",
    "import pandas as pd\n",
    "import numpy as np\n",
    "import matplotlib.pyplot as plt\n",
    "import os, sys\n",
    "import seaborn as sns\n",
    "import gc\n",
    "import random\n",
    "\n",
    "from gensim.models import Word2Vec\n",
    "\n",
    "from keras.preprocessing.sequence import pad_sequences\n",
    "from keras.preprocessing.text import Tokenizer\n",
    "from keras.layers import Embedding\n",
    "from keras.regularizers import l1, l2\n",
    "\n",
    "from keras.models import Model, Sequential, load_model\n",
    "from keras.layers import Input, Flatten, Dense, Conv1D, MaxPooling1D, GlobalMaxPool1D, SpatialDropout1D, \\\n",
    "                          UpSampling1D, LSTM, RepeatVector, TimeDistributed, GRU, Bidirectional, concatenate, \\\n",
    "                          Reshape, Dropout, BatchNormalization, Embedding, GlobalAveragePooling2D, Masking, GRU, \\\n",
    "                          TimeDistributed\n",
    "\n",
    "from sklearn.preprocessing import StandardScaler, MinMaxScaler\n",
    "from sklearn.utils import shuffle\n",
    "from keras.utils import to_categorical, plot_model\n",
    "\n",
    "from sklearn.model_selection import train_test_split\n",
    "import matplotlib.pyplot as plt\n",
    "\n",
    "#from utils import get_model, find_closest, get_sequences, create_train_valid,  generate_output, guess_human\n",
    "\n",
    "import warnings\n",
    "warnings.filterwarnings('ignore', category = RuntimeWarning)\n",
    "warnings.filterwarnings('ignore', category = UserWarning)\n",
    "pd.set_option('max_colwidth', -1)"
   ]
  },
  {
   "cell_type": "code",
   "execution_count": 2,
   "metadata": {},
   "outputs": [
    {
     "name": "stdout",
     "output_type": "stream",
     "text": [
      "(8192, 17)\n"
     ]
    },
    {
     "data": {
      "text/html": [
       "<div>\n",
       "<style scoped>\n",
       "    .dataframe tbody tr th:only-of-type {\n",
       "        vertical-align: middle;\n",
       "    }\n",
       "\n",
       "    .dataframe tbody tr th {\n",
       "        vertical-align: top;\n",
       "    }\n",
       "\n",
       "    .dataframe thead th {\n",
       "        text-align: right;\n",
       "    }\n",
       "</style>\n",
       "<table border=\"1\" class=\"dataframe\">\n",
       "  <thead>\n",
       "    <tr style=\"text-align: right;\">\n",
       "      <th></th>\n",
       "      <th>Player</th>\n",
       "      <th>Tag</th>\n",
       "      <th>TeamId</th>\n",
       "      <th>Team</th>\n",
       "      <th>DeckId</th>\n",
       "      <th>Archetype</th>\n",
       "      <th>Usage</th>\n",
       "      <th>CardKeysRaw</th>\n",
       "      <th>Games</th>\n",
       "      <th>Losses</th>\n",
       "      <th>Wins</th>\n",
       "      <th>BattleTime</th>\n",
       "      <th>date</th>\n",
       "      <th>CardKeysRawSorted</th>\n",
       "      <th>deck</th>\n",
       "      <th>times</th>\n",
       "      <th>deck_id_int</th>\n",
       "    </tr>\n",
       "  </thead>\n",
       "  <tbody>\n",
       "    <tr>\n",
       "      <th>0</th>\n",
       "      <td>Raider™02</td>\n",
       "      <td>LGG0QU2</td>\n",
       "      <td>55</td>\n",
       "      <td>Black EF / PG / CTP - Jameo eSports</td>\n",
       "      <td>9246338</td>\n",
       "      <td>Hogrider</td>\n",
       "      <td>SameClan</td>\n",
       "      <td>skeletons,ice-spirit,the-log,valkyrie,poison,electro-wizard,inferno-tower,hog-rider</td>\n",
       "      <td>1</td>\n",
       "      <td>1</td>\n",
       "      <td>0</td>\n",
       "      <td>2019-05-13</td>\n",
       "      <td>2019-05-13</td>\n",
       "      <td>electro-wizard, hog-rider, ice-spirit, inferno-tower, poison, skeletons, the-log, valkyrie</td>\n",
       "      <td>electro-wizard, hog-rider, ice-spirit, inferno-tower, poison, skeletons, the-log, valkyrie</td>\n",
       "      <td>3</td>\n",
       "      <td>515</td>\n",
       "    </tr>\n",
       "    <tr>\n",
       "      <th>1</th>\n",
       "      <td>Kaiju JN</td>\n",
       "      <td>LYU9C09J</td>\n",
       "      <td>56</td>\n",
       "      <td>Black EF / PG / CTP - Kaiju eSports</td>\n",
       "      <td>9246056</td>\n",
       "      <td>Hogrider</td>\n",
       "      <td>Friendly</td>\n",
       "      <td>skeletons,ice-spirit,the-log,valkyrie,poison,electro-wizard,inferno-tower,hog-rider</td>\n",
       "      <td>1</td>\n",
       "      <td>1</td>\n",
       "      <td>0</td>\n",
       "      <td>2019-05-12</td>\n",
       "      <td>2019-05-12</td>\n",
       "      <td>electro-wizard, hog-rider, ice-spirit, inferno-tower, poison, skeletons, the-log, valkyrie</td>\n",
       "      <td>electro-wizard, hog-rider, ice-spirit, inferno-tower, poison, skeletons, the-log, valkyrie</td>\n",
       "      <td>3</td>\n",
       "      <td>515</td>\n",
       "    </tr>\n",
       "    <tr>\n",
       "      <th>2</th>\n",
       "      <td>MAD MCasc</td>\n",
       "      <td>R99YP00J</td>\n",
       "      <td>74</td>\n",
       "      <td>SLO - MAD Lions E.C.</td>\n",
       "      <td>9246027</td>\n",
       "      <td>Hogrider</td>\n",
       "      <td>SameClan</td>\n",
       "      <td>skeletons,ice-spirit,the-log,valkyrie,poison,electro-wizard,inferno-tower,hog-rider</td>\n",
       "      <td>1</td>\n",
       "      <td>1</td>\n",
       "      <td>0</td>\n",
       "      <td>2019-05-12</td>\n",
       "      <td>2019-05-12</td>\n",
       "      <td>electro-wizard, hog-rider, ice-spirit, inferno-tower, poison, skeletons, the-log, valkyrie</td>\n",
       "      <td>electro-wizard, hog-rider, ice-spirit, inferno-tower, poison, skeletons, the-log, valkyrie</td>\n",
       "      <td>3</td>\n",
       "      <td>515</td>\n",
       "    </tr>\n",
       "  </tbody>\n",
       "</table>\n",
       "</div>"
      ],
      "text/plain": [
       "      Player       Tag  TeamId                                 Team   DeckId  \\\n",
       "0  Raider™02  LGG0QU2   55      Black EF / PG / CTP - Jameo eSports  9246338   \n",
       "1  Kaiju JN   LYU9C09J  56      Black EF / PG / CTP - Kaiju eSports  9246056   \n",
       "2  MAD MCasc  R99YP00J  74      SLO - MAD Lions E.C.                 9246027   \n",
       "\n",
       "  Archetype     Usage  \\\n",
       "0  Hogrider  SameClan   \n",
       "1  Hogrider  Friendly   \n",
       "2  Hogrider  SameClan   \n",
       "\n",
       "                                                                           CardKeysRaw  \\\n",
       "0  skeletons,ice-spirit,the-log,valkyrie,poison,electro-wizard,inferno-tower,hog-rider   \n",
       "1  skeletons,ice-spirit,the-log,valkyrie,poison,electro-wizard,inferno-tower,hog-rider   \n",
       "2  skeletons,ice-spirit,the-log,valkyrie,poison,electro-wizard,inferno-tower,hog-rider   \n",
       "\n",
       "   Games  Losses  Wins  BattleTime        date  \\\n",
       "0  1      1       0     2019-05-13  2019-05-13   \n",
       "1  1      1       0     2019-05-12  2019-05-12   \n",
       "2  1      1       0     2019-05-12  2019-05-12   \n",
       "\n",
       "                                                                            CardKeysRawSorted  \\\n",
       "0  electro-wizard, hog-rider, ice-spirit, inferno-tower, poison, skeletons, the-log, valkyrie   \n",
       "1  electro-wizard, hog-rider, ice-spirit, inferno-tower, poison, skeletons, the-log, valkyrie   \n",
       "2  electro-wizard, hog-rider, ice-spirit, inferno-tower, poison, skeletons, the-log, valkyrie   \n",
       "\n",
       "                                                                                         deck  \\\n",
       "0  electro-wizard, hog-rider, ice-spirit, inferno-tower, poison, skeletons, the-log, valkyrie   \n",
       "1  electro-wizard, hog-rider, ice-spirit, inferno-tower, poison, skeletons, the-log, valkyrie   \n",
       "2  electro-wizard, hog-rider, ice-spirit, inferno-tower, poison, skeletons, the-log, valkyrie   \n",
       "\n",
       "   times  deck_id_int  \n",
       "0  3      515          \n",
       "1  3      515          \n",
       "2  3      515          "
      ]
     },
     "execution_count": 2,
     "metadata": {},
     "output_type": "execute_result"
    }
   ],
   "source": [
    "data = pd.read_csv('data_cleaned_20190514.csv', index_col = None)\n",
    "print(data.shape)\n",
    "data.head(3)"
   ]
  },
  {
   "cell_type": "code",
   "execution_count": 3,
   "metadata": {},
   "outputs": [],
   "source": [
    "data = data.loc[data.index.repeat(data.Games)].reset_index(drop=True)"
   ]
  },
  {
   "cell_type": "code",
   "execution_count": 4,
   "metadata": {},
   "outputs": [
    {
     "data": {
      "text/html": [
       "<div>\n",
       "<style scoped>\n",
       "    .dataframe tbody tr th:only-of-type {\n",
       "        vertical-align: middle;\n",
       "    }\n",
       "\n",
       "    .dataframe tbody tr th {\n",
       "        vertical-align: top;\n",
       "    }\n",
       "\n",
       "    .dataframe thead th {\n",
       "        text-align: right;\n",
       "    }\n",
       "</style>\n",
       "<table border=\"1\" class=\"dataframe\">\n",
       "  <thead>\n",
       "    <tr style=\"text-align: right;\">\n",
       "      <th></th>\n",
       "      <th>Player</th>\n",
       "      <th>Tag</th>\n",
       "      <th>TeamId</th>\n",
       "      <th>Team</th>\n",
       "      <th>DeckId</th>\n",
       "      <th>Archetype</th>\n",
       "      <th>Usage</th>\n",
       "      <th>CardKeysRaw</th>\n",
       "      <th>Games</th>\n",
       "      <th>Losses</th>\n",
       "      <th>Wins</th>\n",
       "      <th>BattleTime</th>\n",
       "      <th>date</th>\n",
       "      <th>CardKeysRawSorted</th>\n",
       "      <th>deck</th>\n",
       "      <th>times</th>\n",
       "      <th>deck_id_int</th>\n",
       "    </tr>\n",
       "  </thead>\n",
       "  <tbody>\n",
       "    <tr>\n",
       "      <th>0</th>\n",
       "      <td>Raider™02</td>\n",
       "      <td>LGG0QU2</td>\n",
       "      <td>55</td>\n",
       "      <td>Black EF / PG / CTP - Jameo eSports</td>\n",
       "      <td>9246338</td>\n",
       "      <td>Hogrider</td>\n",
       "      <td>SameClan</td>\n",
       "      <td>skeletons,icespirit,thelog,valkyrie,poison,electrowizard,infernotower,hogrider</td>\n",
       "      <td>1</td>\n",
       "      <td>1</td>\n",
       "      <td>0</td>\n",
       "      <td>2019-05-13</td>\n",
       "      <td>2019-05-13</td>\n",
       "      <td>electro-wizard, hog-rider, ice-spirit, inferno-tower, poison, skeletons, the-log, valkyrie</td>\n",
       "      <td>electro-wizard, hog-rider, ice-spirit, inferno-tower, poison, skeletons, the-log, valkyrie</td>\n",
       "      <td>3</td>\n",
       "      <td>515</td>\n",
       "    </tr>\n",
       "    <tr>\n",
       "      <th>1</th>\n",
       "      <td>Kaiju JN</td>\n",
       "      <td>LYU9C09J</td>\n",
       "      <td>56</td>\n",
       "      <td>Black EF / PG / CTP - Kaiju eSports</td>\n",
       "      <td>9246056</td>\n",
       "      <td>Hogrider</td>\n",
       "      <td>Friendly</td>\n",
       "      <td>skeletons,icespirit,thelog,valkyrie,poison,electrowizard,infernotower,hogrider</td>\n",
       "      <td>1</td>\n",
       "      <td>1</td>\n",
       "      <td>0</td>\n",
       "      <td>2019-05-12</td>\n",
       "      <td>2019-05-12</td>\n",
       "      <td>electro-wizard, hog-rider, ice-spirit, inferno-tower, poison, skeletons, the-log, valkyrie</td>\n",
       "      <td>electro-wizard, hog-rider, ice-spirit, inferno-tower, poison, skeletons, the-log, valkyrie</td>\n",
       "      <td>3</td>\n",
       "      <td>515</td>\n",
       "    </tr>\n",
       "    <tr>\n",
       "      <th>2</th>\n",
       "      <td>MAD MCasc</td>\n",
       "      <td>R99YP00J</td>\n",
       "      <td>74</td>\n",
       "      <td>SLO - MAD Lions E.C.</td>\n",
       "      <td>9246027</td>\n",
       "      <td>Hogrider</td>\n",
       "      <td>SameClan</td>\n",
       "      <td>skeletons,icespirit,thelog,valkyrie,poison,electrowizard,infernotower,hogrider</td>\n",
       "      <td>1</td>\n",
       "      <td>1</td>\n",
       "      <td>0</td>\n",
       "      <td>2019-05-12</td>\n",
       "      <td>2019-05-12</td>\n",
       "      <td>electro-wizard, hog-rider, ice-spirit, inferno-tower, poison, skeletons, the-log, valkyrie</td>\n",
       "      <td>electro-wizard, hog-rider, ice-spirit, inferno-tower, poison, skeletons, the-log, valkyrie</td>\n",
       "      <td>3</td>\n",
       "      <td>515</td>\n",
       "    </tr>\n",
       "  </tbody>\n",
       "</table>\n",
       "</div>"
      ],
      "text/plain": [
       "      Player       Tag  TeamId                                 Team   DeckId  \\\n",
       "0  Raider™02  LGG0QU2   55      Black EF / PG / CTP - Jameo eSports  9246338   \n",
       "1  Kaiju JN   LYU9C09J  56      Black EF / PG / CTP - Kaiju eSports  9246056   \n",
       "2  MAD MCasc  R99YP00J  74      SLO - MAD Lions E.C.                 9246027   \n",
       "\n",
       "  Archetype     Usage  \\\n",
       "0  Hogrider  SameClan   \n",
       "1  Hogrider  Friendly   \n",
       "2  Hogrider  SameClan   \n",
       "\n",
       "                                                                      CardKeysRaw  \\\n",
       "0  skeletons,icespirit,thelog,valkyrie,poison,electrowizard,infernotower,hogrider   \n",
       "1  skeletons,icespirit,thelog,valkyrie,poison,electrowizard,infernotower,hogrider   \n",
       "2  skeletons,icespirit,thelog,valkyrie,poison,electrowizard,infernotower,hogrider   \n",
       "\n",
       "   Games  Losses  Wins  BattleTime        date  \\\n",
       "0  1      1       0     2019-05-13  2019-05-13   \n",
       "1  1      1       0     2019-05-12  2019-05-12   \n",
       "2  1      1       0     2019-05-12  2019-05-12   \n",
       "\n",
       "                                                                            CardKeysRawSorted  \\\n",
       "0  electro-wizard, hog-rider, ice-spirit, inferno-tower, poison, skeletons, the-log, valkyrie   \n",
       "1  electro-wizard, hog-rider, ice-spirit, inferno-tower, poison, skeletons, the-log, valkyrie   \n",
       "2  electro-wizard, hog-rider, ice-spirit, inferno-tower, poison, skeletons, the-log, valkyrie   \n",
       "\n",
       "                                                                                         deck  \\\n",
       "0  electro-wizard, hog-rider, ice-spirit, inferno-tower, poison, skeletons, the-log, valkyrie   \n",
       "1  electro-wizard, hog-rider, ice-spirit, inferno-tower, poison, skeletons, the-log, valkyrie   \n",
       "2  electro-wizard, hog-rider, ice-spirit, inferno-tower, poison, skeletons, the-log, valkyrie   \n",
       "\n",
       "   times  deck_id_int  \n",
       "0  3      515          \n",
       "1  3      515          \n",
       "2  3      515          "
      ]
     },
     "execution_count": 4,
     "metadata": {},
     "output_type": "execute_result"
    }
   ],
   "source": [
    "data['CardKeysRaw'] = data['CardKeysRaw'].str.replace('-', '')\n",
    "data.head(3)"
   ]
  },
  {
   "cell_type": "markdown",
   "metadata": {},
   "source": [
    "## Sequences"
   ]
  },
  {
   "cell_type": "code",
   "execution_count": 5,
   "metadata": {},
   "outputs": [
    {
     "data": {
      "text/plain": [
       "68110"
      ]
     },
     "execution_count": 5,
     "metadata": {},
     "output_type": "execute_result"
    }
   ],
   "source": [
    "original_cards = list(data['CardKeysRaw'])\n",
    "len(original_cards)"
   ]
  },
  {
   "cell_type": "code",
   "execution_count": 6,
   "metadata": {},
   "outputs": [
    {
     "name": "stdout",
     "output_type": "stream",
     "text": [
      "['skeletons,icespirit,thelog,valkyrie,poison,electrowizard,infernotower,hogrider', 'skeletons,icespirit,thelog,valkyrie,poison,electrowizard,infernotower,hogrider', 'skeletons,icespirit,thelog,valkyrie,poison,electrowizard,infernotower,hogrider', 'icespirit,barbarianbarrel,wallbreakers,dartgoblin,infernotower,rascals,miner,poison', 'icespirit,barbarianbarrel,wallbreakers,dartgoblin,infernotower,rascals,miner,poison']\n"
     ]
    }
   ],
   "source": [
    "original_cards = [x for x in original_cards]\n",
    "print(original_cards[:5])"
   ]
  },
  {
   "cell_type": "code",
   "execution_count": 7,
   "metadata": {},
   "outputs": [],
   "source": [
    "def make_sequences(texts, training_length=8, lower=True):\n",
    "    \"\"\"Turn a set of texts into sequences of integers\"\"\"\n",
    "    # Create the tokenizer object and train on texts\n",
    "    tokenizer = Tokenizer()\n",
    "    tokenizer.fit_on_texts(texts)\n",
    "\n",
    "    # Create look-up dictionaries and reverse look-ups\n",
    "    word_idx = tokenizer.word_index\n",
    "    idx_word = tokenizer.index_word\n",
    "    num_words = len(word_idx)+1\n",
    "    word_counts = tokenizer.word_counts\n",
    "\n",
    "    print(f'There are {num_words} unique words.')\n",
    "\n",
    "    # Convert text to sequences of integers\n",
    "    sequences = tokenizer.texts_to_sequences(texts)\n",
    "\n",
    "    # Limit to sequences with more than training length tokens\n",
    "    seq_lengths = [len(x) for x in sequences]\n",
    "    over_idx = [i for i, l in enumerate(seq_lengths)]\n",
    "\n",
    "    new_texts = []\n",
    "    new_sequences = []\n",
    "\n",
    "    # Only keep sequences with more than training length tokens\n",
    "    for i in over_idx:\n",
    "        new_texts.append(texts[i])\n",
    "        new_sequences.append(sequences[i])\n",
    "\n",
    "    training_seq = []\n",
    "    labels = []\n",
    "\n",
    "    # Iterate through the sequences of tokens\n",
    "    for seq in new_sequences:\n",
    "\n",
    "        # Create multiple training examples from each sequence\n",
    "        for i in range(2, training_length):\n",
    "            #print(i, len(seq))\n",
    "            # Extract the features and label\n",
    "            extract = seq[0:i]\n",
    "            labels.append(seq[len(extract)])\n",
    "                \n",
    "            while(len(extract) < 8):\n",
    "                extract.append(0) #No presence of that item\n",
    "\n",
    "            # Set the features and label\n",
    "            training_seq.append(extract)\n",
    "                  \n",
    "\n",
    "    print(f'There are {len(training_seq)} training sequences.')\n",
    "\n",
    "    # Return everything needed for setting up the model\n",
    "    return word_idx, idx_word, num_words, word_counts, new_texts, new_sequences, training_seq, labels"
   ]
  },
  {
   "cell_type": "code",
   "execution_count": 8,
   "metadata": {},
   "outputs": [
    {
     "name": "stdout",
     "output_type": "stream",
     "text": [
      "There are 92 unique words.\n",
      "There are 408660 training sequences.\n"
     ]
    }
   ],
   "source": [
    "MAX_SEQ_LENGTH = 8\n",
    "word_idx, idx_word, num_words, word_counts, abstracts, sequences, features, labels = make_sequences(\n",
    "    original_cards, MAX_SEQ_LENGTH, lower=True)"
   ]
  },
  {
   "cell_type": "code",
   "execution_count": 9,
   "metadata": {},
   "outputs": [
    {
     "name": "stdout",
     "output_type": "stream",
     "text": [
      "[16, 14, 0, 0, 0, 0, 0, 0]\n",
      "12\n",
      "[16, 14, 12, 0, 0, 0, 0, 0]\n",
      "62\n",
      "[16, 14, 12, 62, 0, 0, 0, 0]\n",
      "9\n",
      "[16, 14, 12, 62, 9, 0, 0, 0]\n",
      "11\n",
      "[16, 14, 12, 62, 9, 11, 0, 0]\n",
      "21\n",
      "[16, 14, 12, 62, 9, 11, 21, 0]\n",
      "30\n",
      "[16, 14, 0, 0, 0, 0, 0, 0]\n",
      "12\n",
      "[16, 14, 12, 0, 0, 0, 0, 0]\n",
      "62\n"
     ]
    }
   ],
   "source": [
    "for i in range(0, 8):\n",
    "    print(features[i])\n",
    "    print(labels[i])"
   ]
  },
  {
   "cell_type": "code",
   "execution_count": 10,
   "metadata": {},
   "outputs": [],
   "source": [
    "def find_cards(index):\n",
    "    \"\"\"Find label corresponding to features for index in training data\"\"\"\n",
    "\n",
    "    # Find features and label\n",
    "    feats = ' '.join(idx_word[i] for i in features[index])\n",
    "    answer = idx_word[labels[index]]\n",
    "\n",
    "    print('Cards:', feats)\n",
    "    print('\\nLabel: ', answer)\n",
    "    "
   ]
  },
  {
   "cell_type": "markdown",
   "metadata": {},
   "source": [
    "### Training Data"
   ]
  },
  {
   "cell_type": "code",
   "execution_count": 11,
   "metadata": {},
   "outputs": [],
   "source": [
    "def create_train_valid(features,\n",
    "                       labels,\n",
    "                       num_words,\n",
    "                       train_fraction=0.9,\n",
    "                       seq_length = 8):\n",
    "    \"\"\"Create training and validation features and labels.\"\"\"\n",
    "\n",
    "    # Randomly shuffle features and labels\n",
    "    features, labels = shuffle(features, labels, random_state=50)\n",
    "\n",
    "    # Decide on number of samples for training\n",
    "    train_end = int(train_fraction * len(labels))\n",
    "\n",
    "    train_features = np.array(features[:train_end])\n",
    "    valid_features = np.array(features[train_end:])\n",
    "\n",
    "    train_labels = labels[:train_end]\n",
    "    valid_labels = labels[train_end:]\n",
    "\n",
    "    # Convert to arrays\n",
    "    X_train, X_valid = np.array(train_features), np.array(valid_features)\n",
    "\n",
    "    # Using int8 for memory savings\n",
    "    y_train = np.zeros((len(train_labels), num_words), dtype=np.int8)\n",
    "    y_valid = np.zeros((len(valid_labels), num_words), dtype=np.int8)\n",
    "\n",
    "    # One hot encoding of labels\n",
    "    for example_index, word_index in enumerate(train_labels):\n",
    "        y_train[example_index, word_index] = 1\n",
    "\n",
    "    for example_index, word_index in enumerate(valid_labels):\n",
    "        y_valid[example_index, word_index] = 1\n",
    "\n",
    "    # Memory management\n",
    "    import gc\n",
    "    gc.enable()\n",
    "    del features, labels, train_features, valid_features, train_labels, valid_labels\n",
    "    gc.collect()\n",
    "\n",
    "    return X_train, X_valid, y_train, y_valid"
   ]
  },
  {
   "cell_type": "code",
   "execution_count": 12,
   "metadata": {},
   "outputs": [
    {
     "name": "stdout",
     "output_type": "stream",
     "text": [
      "(326928, 8)\n",
      "(326928, 92)\n"
     ]
    }
   ],
   "source": [
    "X_train, X_valid, y_train, y_valid = create_train_valid(\n",
    "    features, labels, num_words, train_fraction=0.8)\n",
    "print(X_train.shape)\n",
    "print(y_train.shape)"
   ]
  },
  {
   "cell_type": "code",
   "execution_count": 13,
   "metadata": {},
   "outputs": [
    {
     "data": {
      "text/plain": [
       "array([3, 2, 0, 0, 0, 0, 0, 0])"
      ]
     },
     "execution_count": 13,
     "metadata": {},
     "output_type": "execute_result"
    }
   ],
   "source": [
    "X_train[1]"
   ]
  },
  {
   "cell_type": "code",
   "execution_count": 14,
   "metadata": {},
   "outputs": [
    {
     "name": "stdout",
     "output_type": "stream",
     "text": [
      "Object: data      \tSize: 0.065609263 GB.\n",
      "Object: X_train   \tSize: 0.010461808 GB.\n",
      "Object: y_train   \tSize: 0.030077488 GB.\n"
     ]
    }
   ],
   "source": [
    "def check_sizes(gb_min=1):\n",
    "    for x in globals():\n",
    "        size = sys.getsizeof(eval(x)) / 1e9\n",
    "        if size > gb_min:\n",
    "            print(f'Object: {x:10}\\tSize: {size} GB.')\n",
    "\n",
    "\n",
    "check_sizes(gb_min=0.01)"
   ]
  },
  {
   "cell_type": "markdown",
   "metadata": {},
   "source": [
    "## Model Architecture"
   ]
  },
  {
   "cell_type": "code",
   "execution_count": 15,
   "metadata": {},
   "outputs": [],
   "source": [
    "EMBEDDING_DIM = 20\n",
    "MAX_SEQ_LENGTH = 8"
   ]
  },
  {
   "cell_type": "code",
   "execution_count": 16,
   "metadata": {},
   "outputs": [
    {
     "name": "stderr",
     "output_type": "stream",
     "text": [
      "C:\\Users\\Enric\\Anaconda3\\lib\\site-packages\\ipykernel_launcher.py:7: DeprecationWarning: Call to deprecated `__contains__` (Method will be removed in 4.0.0, use self.wv.__contains__() instead).\n",
      "  import sys\n",
      "C:\\Users\\Enric\\Anaconda3\\lib\\site-packages\\ipykernel_launcher.py:8: DeprecationWarning: Call to deprecated `__getitem__` (Method will be removed in 4.0.0, use self.wv.__getitem__() instead).\n",
      "  \n"
     ]
    },
    {
     "data": {
      "text/plain": [
       "0"
      ]
     },
     "execution_count": 16,
     "metadata": {},
     "output_type": "execute_result"
    }
   ],
   "source": [
    "w2v = Word2Vec.load(\"Cards_Embedding_v4\")\n",
    "word_vectors = w2v.wv\n",
    "vocabulary_size = len(word_idx) + 1\n",
    "embedding_matrix = np.zeros((len(word_idx) + 1, EMBEDDING_DIM))\n",
    "\n",
    "for word, i in word_idx.items():\n",
    "    if word in w2v:\n",
    "        embedding_matrix[i] = w2v[word]\n",
    "    else:\n",
    "        embedding_matrix[i] = np.random.rand(1, EMBEDDING_DIM)[0]\n",
    "            \n",
    "\n",
    "del(word_vectors)\n",
    "gc.collect()"
   ]
  },
  {
   "cell_type": "code",
   "execution_count": 23,
   "metadata": {},
   "outputs": [],
   "source": [
    "def get_model_Seq(CAT_OUTPUTS):\n",
    "    model = Sequential()\n",
    "\n",
    "    # Embedding layer\n",
    "    model.add(Embedding(input_dim=num_words,\n",
    "                    output_dim=EMBEDDING_DIM,\n",
    "                    weights=[embedding_matrix],\n",
    "                    mask_zero=True,\n",
    "                    trainable=False, name = 'Cards'))\n",
    "    \n",
    "    #model.add(Masking()) #Para los zeros\n",
    "\n",
    "    # Recurrent layer\n",
    "    #model.add(LSTM(128, return_sequences=True, dropout=0.2, recurrent_dropout=0.1))\n",
    "    #model.add(Bidirectional(LSTM(128, return_sequences=True, dropout=0.2, recurrent_dropout=0.1)))\n",
    "    model.add(Bidirectional(LSTM(64, return_sequences=False, dropout=0.2, recurrent_dropout=0.1)))\n",
    "\n",
    "    # Fully connected layer\n",
    "    model.add(Dense(128, activation = 'relu'))\n",
    "\n",
    "    # Dropout for regularization\n",
    "    model.add(Dropout(0.4))\n",
    "    \n",
    "    model.add(Dense(64, activation = 'relu'))\n",
    "    \n",
    "    model.add(Dropout(0.3))\n",
    "\n",
    "    # Output layer\n",
    "    model.add(Dense(CAT_OUTPUTS, activation='softmax'))\n",
    "\n",
    "    # Compile the model\n",
    "    model.compile(optimizer='rmsprop', loss='categorical_crossentropy', metrics=['accuracy'])\n",
    "\n",
    "    model.summary()\n",
    "    \n",
    "    return model"
   ]
  },
  {
   "cell_type": "code",
   "execution_count": 24,
   "metadata": {},
   "outputs": [
    {
     "name": "stdout",
     "output_type": "stream",
     "text": [
      "_________________________________________________________________\n",
      "Layer (type)                 Output Shape              Param #   \n",
      "=================================================================\n",
      "Cards (Embedding)            (None, None, 20)          1840      \n",
      "_________________________________________________________________\n",
      "bidirectional_3 (Bidirection (None, 128)               43520     \n",
      "_________________________________________________________________\n",
      "dense_7 (Dense)              (None, 128)               16512     \n",
      "_________________________________________________________________\n",
      "dropout_5 (Dropout)          (None, 128)               0         \n",
      "_________________________________________________________________\n",
      "dense_8 (Dense)              (None, 64)                8256      \n",
      "_________________________________________________________________\n",
      "dropout_6 (Dropout)          (None, 64)                0         \n",
      "_________________________________________________________________\n",
      "dense_9 (Dense)              (None, 92)                5980      \n",
      "=================================================================\n",
      "Total params: 76,108\n",
      "Trainable params: 74,268\n",
      "Non-trainable params: 1,840\n",
      "_________________________________________________________________\n",
      "Train on 326928 samples, validate on 81732 samples\n",
      "Epoch 1/3\n",
      "326928/326928 [==============================] - 125s 382us/step - loss: 1.8638 - acc: 0.4962 - val_loss: 1.0847 - val_acc: 0.6781\n",
      "Epoch 2/3\n",
      "326928/326928 [==============================] - 121s 369us/step - loss: 1.3186 - acc: 0.6276 - val_loss: 0.9576 - val_acc: 0.7067\n",
      "Epoch 3/3\n",
      "326928/326928 [==============================] - 122s 372us/step - loss: 1.2272 - acc: 0.6503 - val_loss: 0.9093 - val_acc: 0.7281\n"
     ]
    }
   ],
   "source": [
    "model = get_model_Seq(num_words)\n",
    "\n",
    "history = model.fit(X_train, y_train,\n",
    "                    epochs=3,\n",
    "                    batch_size=128,\n",
    "                    verbose=1,\n",
    "                    validation_data=(X_valid, y_valid))"
   ]
  },
  {
   "cell_type": "code",
   "execution_count": 25,
   "metadata": {},
   "outputs": [],
   "source": [
    "model.save('full_model_20190515')\n",
    "#model = load_model('full_model_20190514')"
   ]
  },
  {
   "cell_type": "code",
   "execution_count": 26,
   "metadata": {},
   "outputs": [
    {
     "name": "stdout",
     "output_type": "stream",
     "text": [
      "81732/81732 [==============================] - 15s 189us/step\n",
      "Crossentropy Loss: 0.9092661156759606\n",
      "Acc: 0.7280746831106544\n"
     ]
    }
   ],
   "source": [
    "ev = model.evaluate(X_valid, y_valid, verbose = 1)\n",
    "print(f'Crossentropy Loss: {ev[0]}')\n",
    "print(f'Acc: {ev[1]}')"
   ]
  },
  {
   "cell_type": "code",
   "execution_count": 35,
   "metadata": {},
   "outputs": [
    {
     "name": "stdout",
     "output_type": "stream",
     "text": [
      "[14, 16, 3, 12, 52, 57, 6, 0]\n",
      "['icespirit', 'skeletons', 'icegolem', 'thelog', 'archers', 'tesla', 'fireball']\n",
      "7\n"
     ]
    },
    {
     "data": {
      "text/plain": [
       "'xbow'"
      ]
     },
     "execution_count": 35,
     "metadata": {},
     "output_type": "execute_result"
    }
   ],
   "source": [
    "seq = features[101237]\n",
    "print(seq)\n",
    "print([idx_word[i] for i in seq if i!= 0])\n",
    "print(np.array(seq).argmin())\n",
    "idx = np.array(seq).argmin()\n",
    "idx_word[model.predict(np.array(seq).reshape(1, -1))[0].argmax()]"
   ]
  },
  {
   "cell_type": "code",
   "execution_count": 49,
   "metadata": {},
   "outputs": [
    {
     "name": "stdout",
     "output_type": "stream",
     "text": [
      "Original seq: [89, 2, 53, 10, 0, 0, 0, 0]\n",
      "\n",
      "Original Cards: ['mirror', 'giantsnowball', 'speargoblins', 'bandit']\n",
      "Next Card: darkprince\n",
      "Cards: ['mirror', 'giantsnowball', 'speargoblins', 'bandit', 'darkprince']\n",
      "\n",
      "Next Card: minionhorde\n",
      "Cards: ['mirror', 'giantsnowball', 'speargoblins', 'bandit', 'darkprince', 'minionhorde']\n",
      "\n",
      "Next Card: elixircollector\n",
      "Cards: ['mirror', 'giantsnowball', 'speargoblins', 'bandit', 'darkprince', 'minionhorde', 'elixircollector']\n",
      "\n",
      "Next Card: threemusketeers\n",
      "Cards: ['mirror', 'giantsnowball', 'speargoblins', 'bandit', 'darkprince', 'minionhorde', 'elixircollector', 'threemusketeers']\n",
      "\n"
     ]
    }
   ],
   "source": [
    "#training_length=7\n",
    "new_words=1\n",
    "diversity=1\n",
    "return_output=False\n",
    "n_gen=1\n",
    "\n",
    "seq = random.choice(features)\n",
    "print(f'Original seq: {seq}\\n')\n",
    "\n",
    "seed_idx = np.array(seq).argmin()\n",
    "end_idx = MAX_SEQ_LENGTH - 1\n",
    "#print(seed_idx, end_idx)\n",
    "\n",
    "completed_cards = seed_idx\n",
    "\n",
    "original_sequence = [idx_word[i] for i in seq[:seed_idx]]\n",
    "print(f'Original Cards: {original_sequence}')\n",
    "\n",
    "# Keep adding new cards\n",
    "while (completed_cards < 8):\n",
    "    preds = model.predict(np.array(seq).reshape(1, -1))[0]\n",
    "\n",
    "    print(f'Next Card: {idx_word[preds.argmax()]}')\n",
    "    seq[seed_idx] = word_idx[idx_word[preds.argmax()]]\n",
    "    seed_idx += 1\n",
    "    actual = [idx_word[i] for i in seq[:seed_idx]]\n",
    "    print(f'Cards: {actual}\\n')\n",
    "    completed_cards += 1\n"
   ]
  },
  {
   "cell_type": "code",
   "execution_count": 63,
   "metadata": {},
   "outputs": [],
   "source": [
    "def get_next_card(model, features, training_length=8, diversity=1, return_output=False, n_gen=1):\n",
    "    print('=='*50)\n",
    "    seq = random.choice(features)\n",
    "    print(f'Original seq: {seq}')\n",
    "\n",
    "    seed_idx = np.array(seq).argmin()\n",
    "    end_idx = training_length - 1\n",
    "    completed_cards = seed_idx\n",
    "\n",
    "    original_sequence = [idx_word[i] for i in seq[:seed_idx]]\n",
    "    print(f'Original Cards: {original_sequence}')\n",
    "    print('=='*50+'\\n')\n",
    "\n",
    "    # Keep adding new cards\n",
    "    while (completed_cards < 8):\n",
    "        preds = model.predict(np.array(seq).reshape(1, -1))[0]\n",
    "\n",
    "        print(f'Next Card: {idx_word[preds.argmax()]}')\n",
    "        seq[seed_idx] = word_idx[idx_word[preds.argmax()]]\n",
    "        seed_idx += 1\n",
    "        actual = [idx_word[i] for i in seq[:seed_idx]]\n",
    "        print(f'Cards: {actual}\\n')\n",
    "        completed_cards += 1\n",
    "\n",
    "        #if return_output:\n",
    "            #return original_sequence, gen_list, a"
   ]
  },
  {
   "cell_type": "code",
   "execution_count": 67,
   "metadata": {},
   "outputs": [
    {
     "name": "stdout",
     "output_type": "stream",
     "text": [
      "====================================================================================================\n",
      "Original seq: [1, 42, 37, 0, 0, 0, 0, 0]\n",
      "Original Cards: ['barbarianbarrel', 'icewizard', 'tombstone']\n",
      "====================================================================================================\n",
      "\n",
      "Next Card: tornado\n",
      "Cards: ['barbarianbarrel', 'icewizard', 'tombstone', 'tornado']\n",
      "\n",
      "Next Card: babydragon\n",
      "Cards: ['barbarianbarrel', 'icewizard', 'tombstone', 'tornado', 'babydragon']\n",
      "\n",
      "Next Card: darkprince\n",
      "Cards: ['barbarianbarrel', 'icewizard', 'tombstone', 'tornado', 'babydragon', 'darkprince']\n",
      "\n",
      "Next Card: poison\n",
      "Cards: ['barbarianbarrel', 'icewizard', 'tombstone', 'tornado', 'babydragon', 'darkprince', 'poison']\n",
      "\n",
      "Next Card: graveyard\n",
      "Cards: ['barbarianbarrel', 'icewizard', 'tombstone', 'tornado', 'babydragon', 'darkprince', 'poison', 'graveyard']\n",
      "\n"
     ]
    }
   ],
   "source": [
    "get_next_card(model, features, training_length = 8)"
   ]
  }
 ],
 "metadata": {
  "kernelspec": {
   "display_name": "Python 3",
   "language": "python",
   "name": "python3"
  },
  "language_info": {
   "codemirror_mode": {
    "name": "ipython",
    "version": 3
   },
   "file_extension": ".py",
   "mimetype": "text/x-python",
   "name": "python",
   "nbconvert_exporter": "python",
   "pygments_lexer": "ipython3",
   "version": "3.6.8"
  }
 },
 "nbformat": 4,
 "nbformat_minor": 2
}
